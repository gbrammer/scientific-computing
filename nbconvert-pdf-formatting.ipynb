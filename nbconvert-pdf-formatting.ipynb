{
 "cells": [
  {
   "cell_type": "markdown",
   "id": "5cd683fb-efc5-44bc-bbd4-28f7a1493bba",
   "metadata": {
    "editable": true,
    "slideshow": {
     "slide_type": ""
    },
    "tags": []
   },
   "source": [
    "# PDF formatting of jupyter notebooks\n",
    "\n",
    "This shows a few examples how to use jupyter **tags** to hide the input, output, or both of a particular notebook cell in the exported PDF.\n",
    "\n",
    "For more information, see the [``nbconvert`` documentation](https://nbconvert.readthedocs.io/en/latest/removing_cells.html).\n",
    "\n",
    "To generate the PDF output, run\n",
    "\n",
    "```bash\n",
    "$ jupyter nbconvert --to pdf nbconvert-pdf-formatting.ipynb \\\n",
    "   --TagRemovePreprocessor.remove_cell_tags='{\"hide_cell\"}' \\\n",
    "   --TagRemovePreprocessor.remove_input_tags='{\"remove_input\"}' \\\n",
    "   --TagRemovePreprocessor.remove_output_tags='{\"remove_output\"}'\n",
    "```\n"
   ]
  },
  {
   "cell_type": "markdown",
   "id": "ec6d79c3-9c5e-4667-826a-002d1478d492",
   "metadata": {
    "editable": true,
    "slideshow": {
     "slide_type": ""
    },
    "tags": []
   },
   "source": [
    "## Hiding input/output"
   ]
  },
  {
   "cell_type": "code",
   "execution_count": 1,
   "id": "ad463239-772f-4050-8133-8e249fa69e5a",
   "metadata": {
    "editable": true,
    "slideshow": {
     "slide_type": ""
    },
    "tags": []
   },
   "outputs": [
    {
     "name": "stdout",
     "output_type": "stream",
     "text": [
      "The time is now: Wed Sep 24 12:12:56 2025\n"
     ]
    }
   ],
   "source": [
    "# This cell will be output\n",
    "import time\n",
    "print(f\"The time is now: {time.ctime()}\")"
   ]
  },
  {
   "cell_type": "code",
   "execution_count": 2,
   "id": "02a6a66e-d1e0-4a60-9b73-d7954d40bd1f",
   "metadata": {
    "editable": true,
    "slideshow": {
     "slide_type": ""
    },
    "tags": [
     "remove_output"
    ]
   },
   "outputs": [
    {
     "name": "stdout",
     "output_type": "stream",
     "text": [
      "The time is now: Wed Sep 24 12:12:56 2025\n"
     ]
    }
   ],
   "source": [
    "# Click the \"gears\" icon at the right of the jupyter window\n",
    "# and add a tag \"remove_output\" to show the cell code but not the result\n",
    "print(f\"The time is now: {time.ctime()}\")"
   ]
  },
  {
   "cell_type": "code",
   "execution_count": 3,
   "id": "6ef1ebf6-673f-4a3d-89be-36d2879b73cf",
   "metadata": {
    "editable": true,
    "slideshow": {
     "slide_type": ""
    },
    "tags": [
     "remove_input"
    ]
   },
   "outputs": [
    {
     "name": "stdout",
     "output_type": "stream",
     "text": [
      "(code is hidden with `remove_input`)\n",
      "The time is now: Wed Sep 24 12:12:56 2025\n"
     ]
    }
   ],
   "source": [
    "# Do the same as above but with a \"remove_input\" tag to show the cell \n",
    "# output but not the code\n",
    "print(\"(code is hidden with `remove_input`)\")\n",
    "print(f\"The time is now: {time.ctime()}\")"
   ]
  },
  {
   "cell_type": "code",
   "execution_count": 4,
   "id": "68d2f1b6-c96f-4d5a-bdba-b015031cea7c",
   "metadata": {
    "editable": true,
    "slideshow": {
     "slide_type": ""
    },
    "tags": [
     "hide_cell"
    ]
   },
   "outputs": [
    {
     "name": "stdout",
     "output_type": "stream",
     "text": [
      "this is the penultimate cell of this section\n"
     ]
    }
   ],
   "source": [
    "# Set a \"hide_cell\" tag on this one to remove both input and output\n",
    "print(\"this is the penultimate cell of this section\")"
   ]
  },
  {
   "cell_type": "code",
   "execution_count": 5,
   "id": "3d3663af-fcf3-43b7-9e51-127a68919518",
   "metadata": {
    "editable": true,
    "slideshow": {
     "slide_type": ""
    },
    "tags": []
   },
   "outputs": [
    {
     "name": "stdout",
     "output_type": "stream",
     "text": [
      "this is the last cell of this section, the penultimate cell was hidden entirely from the export\n"
     ]
    }
   ],
   "source": [
    "print(\"this is the last cell of this section, the penultimate cell was hidden entirely from the export\")"
   ]
  },
  {
   "cell_type": "markdown",
   "id": "27084679-ecb5-4b78-ba72-e21af7aab3d8",
   "metadata": {
    "editable": true,
    "slideshow": {
     "slide_type": ""
    },
    "tags": []
   },
   "source": [
    "## Render variables in markdown\n",
    "\n",
    "```python\n",
    "from IPython.display import display, Markdown\n",
    "```\n",
    "\n",
    "The ``IPython.display.Markdown`` helper can be used to render output using variables local to the notebook ."
   ]
  },
  {
   "cell_type": "code",
   "execution_count": 6,
   "id": "cf9b1c53-26ed-4a70-b9a6-e61e7ec7ce32",
   "metadata": {
    "editable": true,
    "slideshow": {
     "slide_type": ""
    },
    "tags": [
     "remove_input"
    ]
   },
   "outputs": [
    {
     "data": {
      "text/markdown": [
       "\n",
       "### Result\n",
       "The value of $\\theta$ is 0.0"
      ],
      "text/plain": [
       "<IPython.core.display.Markdown object>"
      ]
     },
     "metadata": {},
     "output_type": "display_data"
    }
   ],
   "source": [
    "from IPython.display import display, Markdown\n",
    "\n",
    "theta = 0.\n",
    "\n",
    "# also set the \"remove_input\" tag as above to *just* render the markdown\n",
    "\n",
    "display(\n",
    "    Markdown(r\"\"\"\n",
    "### Result\n",
    "The value of $\\theta$ is \"\"\" + f'{theta:.1f}')\n",
    ")"
   ]
  },
  {
   "cell_type": "markdown",
   "id": "9d73454f-374c-4045-87ff-1cb8e1931445",
   "metadata": {
    "editable": true,
    "slideshow": {
     "slide_type": ""
    },
    "tags": []
   },
   "source": [
    "## A figure with the source code hidden.  \n",
    "\n",
    "But be careful, because should probably at least have a Markdown cell above/below that serves as a caption."
   ]
  },
  {
   "cell_type": "code",
   "execution_count": 7,
   "id": "92066d42-7b3f-47c2-955d-52833622348c",
   "metadata": {
    "editable": true,
    "slideshow": {
     "slide_type": ""
    },
    "tags": [
     "remove_input"
    ]
   },
   "outputs": [
    {
     "data": {
      "image/png": "[encoded data removed]",
      "text/plain": [
       "<Figure size 600x600 with 1 Axes>"
      ]
     },
     "metadata": {},
     "output_type": "display_data"
    }
   ],
   "source": [
    "import matplotlib.pyplot as plt\n",
    "_ = plt.plot([0,1])\n",
    "_ = plt.gca().set_title(\"This is a figure\")"
   ]
  }
 ],
 "metadata": {
  "kernelspec": {
   "display_name": "Python 3 (ipykernel)",
   "language": "python",
   "name": "python3"
  },
  "language_info": {
   "codemirror_mode": {
    "name": "ipython",
    "version": 3
   },
   "file_extension": ".py",
   "mimetype": "text/x-python",
   "name": "python",
   "nbconvert_exporter": "python",
   "pygments_lexer": "ipython3",
   "version": "3.12.9"
  }
 },
 "nbformat": 4,
 "nbformat_minor": 5
}
