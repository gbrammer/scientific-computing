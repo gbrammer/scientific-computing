{
 "cells": [
  {
   "cell_type": "markdown",
   "id": "9efe4ed5-f850-4101-97af-3144424514d2",
   "metadata": {
    "editable": true,
    "slideshow": {
     "slide_type": "skip"
    },
    "tags": []
   },
   "source": [
    "- Launch as slides with \n",
    "\n",
    "```bash\n",
    "$ jupyter nbconvert --to slides python-functions-and-classes.ipynb --post serve --TemplateExporter.extra_template_basedirs=${PWD}/slide_templates/ --template revealx\n",
    "```"
   ]
  },
  {
   "cell_type": "markdown",
   "id": "d333344f-32a4-4731-a70e-6c4c206d10b8",
   "metadata": {
    "editable": true,
    "slideshow": {
     "slide_type": "slide"
    },
    "tags": []
   },
   "source": [
    "# Functions and Classes\n",
    "\n",
    "This notebook demonstrates different ways of defining functions and Python classes.\n",
    "\n",
    "The general problem here is that we want to write a function that can take general input and do something with it, but where \"do something\" itself may involve some hyperparameters that we'd like to be able to easily change.\n",
    "\n",
    "In terms of SC Project #3, the input is a `Nx3` array of `(x,y,z)` Cartesian coordinates for `N` points and the hyperparameters are the $\\epsilon$ and $\\sigma$ used in the definition of the Lennard-Jones potential \n",
    "\n",
    "$  v_{LJ}(r_{ij}) = 4\\epsilon \\left( \\left(\\frac{\\sigma}{r_{ij}}\\right)^{12}  - \\left(\\frac{\\sigma}{r_{ij}}\\right)^6 \\right)$.\n"
   ]
  },
  {
   "cell_type": "code",
   "execution_count": 1,
   "id": "f69d3951-7b8a-469c-bba4-d130cbadc657",
   "metadata": {
    "editable": true,
    "slideshow": {
     "slide_type": "notes"
    },
    "tags": []
   },
   "outputs": [],
   "source": [
    "# Preliminaries\n",
    "import numpy as np\n",
    "from numpy import newaxis, fill_diagonal, sum, sqrt\n",
    "NA = newaxis\n",
    "\n",
    "# Experimental values for Argon atoms\n",
    "EPSILON=0.997; # kJ/mol\n",
    "SIGMA=  3.401; # Ångstrom\n",
    "\n",
    "def distance(points):\n",
    "    # points: (N,3)-array of (x,y,z) coordinates for N points\n",
    "    # distance(points): returns (N,N)-array of inter-point distances:\n",
    "    displacement = points[:, NA] - points[NA, :]\n",
    "    return sqrt(sum(displacement*displacement, axis=-1))\n"
   ]
  },
  {
   "cell_type": "markdown",
   "id": "bc9b6e84-9123-4807-b105-f591013b03a5",
   "metadata": {
    "editable": true,
    "slideshow": {
     "slide_type": "slide"
    },
    "tags": []
   },
   "source": [
    "# A compound function\n",
    "\n",
    "This is the method that is provided in the materials for Project3.  It involves writing \"parent\" and \"child\" functions where the hyperparameters are provided as keywords to the parent function and which are then local variables to the child function."
   ]
  },
  {
   "cell_type": "code",
   "execution_count": 2,
   "id": "97f4fc77-671f-4a33-9e25-532a10d9039a",
   "metadata": {
    "editable": true,
    "slideshow": {
     "slide_type": ""
    },
    "tags": []
   },
   "outputs": [],
   "source": [
    "def compound_parent(a=1, b=2):\n",
    "    def _child(x):\n",
    "        \"\"\"\n",
    "        Child function of `compound_parent`\n",
    "        \"\"\"\n",
    "        print(f'(inside _child) a={a}, b={b}, input x = {x}, a+b*x = {a+b*x}')\n",
    "        return a+b*x\n",
    "\n",
    "    return _child"
   ]
  },
  {
   "cell_type": "code",
   "execution_count": 3,
   "id": "96946838-1a3b-4d57-87cd-82a81c8db472",
   "metadata": {
    "editable": true,
    "slideshow": {
     "slide_type": "fragment"
    },
    "tags": []
   },
   "outputs": [
    {
     "name": "stdout",
     "output_type": "stream",
     "text": [
      "(inside _child) a=1, b=4, input x = 3, a+b*x = 13\n",
      "output of the child function:  13\n"
     ]
    }
   ],
   "source": [
    "# \"initialize\" the function\n",
    "func = compound_parent(a=1, b=4)\n",
    "\n",
    "# Call it\n",
    "result = func(3)\n",
    "\n",
    "print('output of the child function: ', result)"
   ]
  },
  {
   "cell_type": "markdown",
   "id": "be2ecf16-8f2e-45a6-a2c2-b259760841b4",
   "metadata": {
    "editable": true,
    "slideshow": {
     "slide_type": "subslide"
    },
    "tags": []
   },
   "source": [
    "Other than the `print()` statement inserted in `_child`, which you wouldn't want to do other than for debugging purposes, there is no way to figure out from `_func` what the values of the hyperparameters were upon initialization or to change them without reinitializing another function."
   ]
  },
  {
   "cell_type": "code",
   "execution_count": 55,
   "id": "6687ecbe-c337-49d5-93d5-e72e9cc2ab87",
   "metadata": {
    "editable": true,
    "slideshow": {
     "slide_type": ""
    },
    "tags": []
   },
   "outputs": [
    {
     "data": {
      "text/plain": [
       "\u001b[0;31mSignature:\u001b[0m \u001b[0mfunc\u001b[0m\u001b[0;34m(\u001b[0m\u001b[0mx\u001b[0m\u001b[0;34m)\u001b[0m\u001b[0;34m\u001b[0m\u001b[0;34m\u001b[0m\u001b[0m\n",
       "\u001b[0;31mDocstring:\u001b[0m Child function of `compound_parent`\n",
       "\u001b[0;31mFile:\u001b[0m      /var/folders/dw/fyp140x977s3y5d2mdxw6m0w0000gn/T/ipykernel_80862/3176197953.py\n",
       "\u001b[0;31mType:\u001b[0m      function"
      ]
     },
     "metadata": {},
     "output_type": "display_data"
    }
   ],
   "source": [
    "# \"help\" prints the docstring of an object in jupyter, \n",
    "# but no way to find out the local values of the hyperparameters\n",
    "# (i.e., local variable) of our function\n",
    "func?"
   ]
  },
  {
   "cell_type": "markdown",
   "id": "20aaffeb-c416-43c2-821e-3b0f24fc7c53",
   "metadata": {
    "editable": true,
    "slideshow": {
     "slide_type": "subslide"
    },
    "tags": []
   },
   "source": [
    "So if we want to make a different version of the function with different values of the hyper parameters, we have to reinitialize it.\n",
    "\n",
    "*Initialization could potentially involve significant overhead, e.g., if there were a lot of data I/O to keep track of.*"
   ]
  },
  {
   "cell_type": "code",
   "execution_count": 5,
   "id": "b9530cbc-d41c-4d4e-9004-a9c153dcc5a0",
   "metadata": {
    "editable": true,
    "slideshow": {
     "slide_type": ""
    },
    "tags": []
   },
   "outputs": [
    {
     "name": "stdout",
     "output_type": "stream",
     "text": [
      "(inside _child) a=-1, b=3, input x = 3, a+b*x = 8\n",
      "output of the child function:  8\n"
     ]
    }
   ],
   "source": [
    "# Initialize the child from the parent\n",
    "new_func = compound_parent(a=-1, b=3)\n",
    "\n",
    "# Call it\n",
    "result = new_func(3)\n",
    "\n",
    "print('output of the child function: ', result)"
   ]
  },
  {
   "cell_type": "code",
   "execution_count": 6,
   "id": "d89baaff-c943-4b19-9ee6-0d04ef8d6ac5",
   "metadata": {
    "editable": true,
    "slideshow": {
     "slide_type": "fragment"
    },
    "tags": []
   },
   "outputs": [
    {
     "data": {
      "text/plain": [
       "\u001b[0;31mSignature:\u001b[0m \u001b[0mnew_func\u001b[0m\u001b[0;34m(\u001b[0m\u001b[0mx\u001b[0m\u001b[0;34m)\u001b[0m\u001b[0;34m\u001b[0m\u001b[0;34m\u001b[0m\u001b[0m\n",
       "\u001b[0;31mDocstring:\u001b[0m Child function of `compound_parent`\n",
       "\u001b[0;31mFile:\u001b[0m      /var/folders/dw/fyp140x977s3y5d2mdxw6m0w0000gn/T/ipykernel_80862/3176197953.py\n",
       "\u001b[0;31mType:\u001b[0m      function"
      ]
     },
     "metadata": {},
     "output_type": "display_data"
    }
   ],
   "source": [
    "# \"help\" still doesn't help\n",
    "new_func?"
   ]
  },
  {
   "cell_type": "code",
   "execution_count": 7,
   "id": "fda66f75-3c79-4ea0-823d-af5b29798697",
   "metadata": {
    "editable": true,
    "slideshow": {
     "slide_type": "subslide"
    },
    "tags": []
   },
   "outputs": [],
   "source": [
    "def LJ(sigma=SIGMA, epsilon=EPSILON):\n",
    "    def V(points):\n",
    "        # points: (N,3)-array of (x,y,z) coordinates for N points\n",
    "        dist = distance(points)\n",
    "\n",
    "        # Fill diagonal with 1, so we don't divide by zero\n",
    "        fill_diagonal(dist, 1)\n",
    "\n",
    "        # dimensionless reciprocal distance\n",
    "        f = sigma/dist\n",
    "\n",
    "        # calculate the interatomic potentials\n",
    "        pot = 4*epsilon*(f**12 - f**6)\n",
    "\n",
    "        # Undo any diagonal terms (the particles don't interact with themselves)\n",
    "        fill_diagonal(pot, 0)\n",
    "\n",
    "        # We could return the sum of just the upper triangular part, corresponding\n",
    "        # to equation 2 in the assignment text. But since the matrix is symmetric,\n",
    "        # we can just sum over all elements and divide by 2\n",
    "        return sum(pot)/2\n",
    "    return V"
   ]
  },
  {
   "cell_type": "markdown",
   "id": "c04e1872-bef4-4358-9612-ed05d9d5fe91",
   "metadata": {
    "editable": true,
    "slideshow": {
     "slide_type": "slide"
    },
    "tags": []
   },
   "source": [
    "# A function with (keyword) arguments\n",
    "\n",
    "An alternative method is to just require that the hyperparameters are provided at the moment the function is called. If provided as keyword arguments, default values can be provided that will be used if not otherwise specified."
   ]
  },
  {
   "cell_type": "code",
   "execution_count": 8,
   "id": "08e96b28-b99b-4cc8-8879-60a49dfa9756",
   "metadata": {
    "editable": true,
    "slideshow": {
     "slide_type": ""
    },
    "tags": []
   },
   "outputs": [],
   "source": [
    "# Here there is no parent / child relationship, just a single function\n",
    "def function_with_args(x, a, b):\n",
    "    \"\"\"\n",
    "    All arguments must be passed explicitly\n",
    "    \"\"\"\n",
    "    print(f'a={a}, b={b}, input x = {x}, a+b*x = {a+b*x}')\n",
    "    return a+b*x"
   ]
  },
  {
   "cell_type": "code",
   "execution_count": 9,
   "id": "2034472c-10db-43d0-b941-b6332af764e9",
   "metadata": {
    "editable": true,
    "slideshow": {
     "slide_type": ""
    },
    "tags": []
   },
   "outputs": [
    {
     "data": {
      "text/plain": [
       "\u001b[0;31mSignature:\u001b[0m \u001b[0mfunction_with_args\u001b[0m\u001b[0;34m(\u001b[0m\u001b[0mx\u001b[0m\u001b[0;34m,\u001b[0m \u001b[0ma\u001b[0m\u001b[0;34m,\u001b[0m \u001b[0mb\u001b[0m\u001b[0;34m)\u001b[0m\u001b[0;34m\u001b[0m\u001b[0;34m\u001b[0m\u001b[0m\n",
       "\u001b[0;31mDocstring:\u001b[0m All arguments must be passed explicitly\n",
       "\u001b[0;31mFile:\u001b[0m      /var/folders/dw/fyp140x977s3y5d2mdxw6m0w0000gn/T/ipykernel_80862/1574258618.py\n",
       "\u001b[0;31mType:\u001b[0m      function"
      ]
     },
     "metadata": {},
     "output_type": "display_data"
    }
   ],
   "source": [
    "# help\n",
    "function_with_args?"
   ]
  },
  {
   "cell_type": "code",
   "execution_count": 10,
   "id": "4bc21a82-2973-4b31-bedd-7e74536a363a",
   "metadata": {
    "editable": true,
    "slideshow": {
     "slide_type": "subslide"
    },
    "tags": []
   },
   "outputs": [
    {
     "ename": "TypeError",
     "evalue": "function_with_args() missing 2 required positional arguments: 'a' and 'b'",
     "output_type": "error",
     "traceback": [
      "\u001b[0;31m---------------------------------------------------------------------------\u001b[0m",
      "\u001b[0;31mTypeError\u001b[0m                                 Traceback (most recent call last)",
      "Cell \u001b[0;32mIn[10], line 2\u001b[0m\n\u001b[1;32m      1\u001b[0m \u001b[38;5;66;03m# This breaks because you have to specify all arguments at runtime\u001b[39;00m\n\u001b[0;32m----> 2\u001b[0m result \u001b[38;5;241m=\u001b[39m \u001b[43mfunction_with_args\u001b[49m\u001b[43m(\u001b[49m\u001b[38;5;241;43m3\u001b[39;49m\u001b[43m)\u001b[49m\n",
      "\u001b[0;31mTypeError\u001b[0m: function_with_args() missing 2 required positional arguments: 'a' and 'b'"
     ]
    }
   ],
   "source": [
    "# This breaks because you have to specify all arguments at runtime\n",
    "result = function_with_args(3)"
   ]
  },
  {
   "cell_type": "code",
   "execution_count": 11,
   "id": "2f50011d-6bbf-49e4-8c3c-4648d4434232",
   "metadata": {
    "editable": true,
    "slideshow": {
     "slide_type": "fragment"
    },
    "tags": []
   },
   "outputs": [
    {
     "name": "stdout",
     "output_type": "stream",
     "text": [
      "a=1, b=2, input x = 3, a+b*x = 7\n"
     ]
    }
   ],
   "source": [
    "# This is ok\n",
    "result = function_with_args(3, 1, 2)"
   ]
  },
  {
   "cell_type": "code",
   "execution_count": 12,
   "id": "c5c90573-72c9-4be8-a826-8838b47b305a",
   "metadata": {
    "editable": true,
    "slideshow": {
     "slide_type": "fragment"
    },
    "tags": []
   },
   "outputs": [
    {
     "name": "stdout",
     "output_type": "stream",
     "text": [
      "a=1, b=2, input x = 3, a+b*x = 7\n",
      "a=2, b=1, input x = 3, a+b*x = 5\n"
     ]
    },
    {
     "ename": "AssertionError",
     "evalue": "",
     "output_type": "error",
     "traceback": [
      "\u001b[0;31m---------------------------------------------------------------------------\u001b[0m",
      "\u001b[0;31mAssertionError\u001b[0m                            Traceback (most recent call last)",
      "Cell \u001b[0;32mIn[12], line 3\u001b[0m\n\u001b[1;32m      1\u001b[0m \u001b[38;5;66;03m# But the *order* of the arguments is fixed\u001b[39;00m\n\u001b[1;32m      2\u001b[0m \u001b[38;5;66;03m# (this breaks with an AssertionError exception)\u001b[39;00m\n\u001b[0;32m----> 3\u001b[0m \u001b[38;5;28;01massert\u001b[39;00m function_with_args(\u001b[38;5;241m3\u001b[39m, \u001b[38;5;241m1\u001b[39m, \u001b[38;5;241m2\u001b[39m) \u001b[38;5;241m==\u001b[39m function_with_args(\u001b[38;5;241m3\u001b[39m, \u001b[38;5;241m2\u001b[39m, \u001b[38;5;241m1\u001b[39m)\n",
      "\u001b[0;31mAssertionError\u001b[0m: "
     ]
    }
   ],
   "source": [
    "# But the *order* of the arguments is fixed\n",
    "# (this breaks with an AssertionError exception)\n",
    "assert function_with_args(3, 1, 2) == function_with_args(3, 2, 1)"
   ]
  },
  {
   "cell_type": "code",
   "execution_count": 13,
   "id": "5f1fbc18-f73b-440a-82e7-f1363ad588f7",
   "metadata": {
    "editable": true,
    "slideshow": {
     "slide_type": "subslide"
    },
    "tags": []
   },
   "outputs": [],
   "source": [
    "def function_with_keywords(x, a=1, b=2):\n",
    "    \"\"\"\n",
    "    Function with keyword arguments\n",
    "    \"\"\"\n",
    "    print(f'a={a}, b={b}, input x = {x}, a+b*x = {a+b*x}')\n",
    "    return a+b*x"
   ]
  },
  {
   "cell_type": "code",
   "execution_count": 14,
   "id": "a362da19-7f34-4379-9b5f-99aa96db26b2",
   "metadata": {
    "editable": true,
    "slideshow": {
     "slide_type": ""
    },
    "tags": []
   },
   "outputs": [
    {
     "name": "stdout",
     "output_type": "stream",
     "text": [
      "a=1, b=2, input x = 3, a+b*x = 7\n",
      "output of the function with keywords:  7\n"
     ]
    }
   ],
   "source": [
    "# Now the function with keywords\n",
    "result = function_with_keywords(3)\n",
    "print('output of the function with keywords: ', result)"
   ]
  },
  {
   "cell_type": "code",
   "execution_count": 15,
   "id": "fc598f3c-5d80-4de2-a268-8b53bf7eb109",
   "metadata": {
    "editable": true,
    "slideshow": {
     "slide_type": "fragment"
    },
    "tags": []
   },
   "outputs": [
    {
     "name": "stdout",
     "output_type": "stream",
     "text": [
      "a=1, b=4, input x = 3, a+b*x = 13\n"
     ]
    }
   ],
   "source": [
    "# Change one of the keywords from the default\n",
    "result = function_with_keywords(3, b=4)"
   ]
  },
  {
   "cell_type": "code",
   "execution_count": 16,
   "id": "1fd6915c-bbb5-4b65-bdfa-ac2de7296098",
   "metadata": {
    "editable": true,
    "slideshow": {
     "slide_type": "fragment"
    },
    "tags": []
   },
   "outputs": [
    {
     "data": {
      "text/plain": [
       "\u001b[0;31mSignature:\u001b[0m \u001b[0mfunction_with_keywords\u001b[0m\u001b[0;34m(\u001b[0m\u001b[0mx\u001b[0m\u001b[0;34m,\u001b[0m \u001b[0ma\u001b[0m\u001b[0;34m=\u001b[0m\u001b[0;36m1\u001b[0m\u001b[0;34m,\u001b[0m \u001b[0mb\u001b[0m\u001b[0;34m=\u001b[0m\u001b[0;36m2\u001b[0m\u001b[0;34m)\u001b[0m\u001b[0;34m\u001b[0m\u001b[0;34m\u001b[0m\u001b[0m\n",
       "\u001b[0;31mDocstring:\u001b[0m Function with keyword arguments\n",
       "\u001b[0;31mFile:\u001b[0m      /var/folders/dw/fyp140x977s3y5d2mdxw6m0w0000gn/T/ipykernel_80862/2365790902.py\n",
       "\u001b[0;31mType:\u001b[0m      function"
      ]
     },
     "metadata": {},
     "output_type": "display_data"
    }
   ],
   "source": [
    "# help at least shows you what the defaults are\n",
    "function_with_keywords?"
   ]
  },
  {
   "cell_type": "code",
   "execution_count": 17,
   "id": "7731f1cf-41be-4c5c-b17f-aadf6b1e9602",
   "metadata": {
    "editable": true,
    "slideshow": {
     "slide_type": "fragment"
    },
    "tags": []
   },
   "outputs": [
    {
     "name": "stdout",
     "output_type": "stream",
     "text": [
      "a=1, b=2, input x = 3, a+b*x = 7\n",
      "a=1, b=2, input x = 3, a+b*x = 7\n"
     ]
    }
   ],
   "source": [
    "# The order of the keywords specified at runtime doesn't matter\n",
    "assert function_with_keywords(3, a=1, b=2) == function_with_keywords(3, b=2, a=1)"
   ]
  },
  {
   "cell_type": "code",
   "execution_count": 18,
   "id": "0da7efa0-e400-4741-9cbf-cec3012373b7",
   "metadata": {
    "editable": true,
    "slideshow": {
     "slide_type": "subslide"
    },
    "tags": []
   },
   "outputs": [],
   "source": [
    "# Write the potential as a function with keywords\n",
    "def Vfunc(points, sigma=SIGMA, epsilon=EPSILON):\n",
    "    \"\"\"\n",
    "    Calculate the Lennard-Jones potential for a list of points\n",
    "    \"\"\"\n",
    "    # points: (N,3)-array of (x,y,z) coordinates for N points\n",
    "    dist = distance(points)\n",
    "\n",
    "    # Fill diagonal with 1, so we don't divide by zero\n",
    "    fill_diagonal(dist, 1)\n",
    "\n",
    "    # dimensionless reciprocal distance\n",
    "    f = sigma/dist\n",
    "\n",
    "    # calculate the interatomic potentials\n",
    "    pot = 4*epsilon*(f**12 - f**6)\n",
    "\n",
    "    # Undo any diagonal terms (the particles don't interact with themselves)\n",
    "    fill_diagonal(pot, 0)\n",
    "\n",
    "    # We could return the sum of just the upper triangular part, corresponding\n",
    "    # to equation 2 in the assignment text. But since the matrix is symmetric,\n",
    "    # we can just sum over all elements and divide by 2\n",
    "    return sum(pot)/2\n"
   ]
  },
  {
   "cell_type": "markdown",
   "id": "f9667069-002d-4221-b450-03b55d7853f9",
   "metadata": {
    "editable": true,
    "slideshow": {
     "slide_type": "slide"
    },
    "tags": []
   },
   "source": [
    "# Define a Class (preferred)\n",
    "\n",
    "Python \"Classes\" provide a means of bundling data and functionality together.  Here we want just want to use this in a simple way to more easily keep track of the hyperparameters, but there are many more ways that Classes are useful.\n",
    "\n",
    "See [$\\S$9 of the Python tutorial](https://docs.python.org/3/tutorial/classes.html) for more introductory information."
   ]
  },
  {
   "cell_type": "code",
   "execution_count": 19,
   "id": "e04e8203-8e8e-4aaf-b4e7-8e1d547cd3ff",
   "metadata": {
    "editable": true,
    "slideshow": {
     "slide_type": ""
    },
    "tags": []
   },
   "outputs": [
    {
     "name": "stdout",
     "output_type": "stream",
     "text": [
      "[[1 0]\n",
      " [0 1]]\n"
     ]
    }
   ],
   "source": [
    "A = np.array([[1,0],[0,1]])\n",
    "print(A)"
   ]
  },
  {
   "cell_type": "code",
   "execution_count": 20,
   "id": "cf78b62a-255c-476e-9714-ec46cba0e08e",
   "metadata": {
    "editable": true,
    "slideshow": {
     "slide_type": ""
    },
    "tags": []
   },
   "outputs": [
    {
     "data": {
      "text/plain": [
       "'Abc'"
      ]
     },
     "execution_count": 20,
     "metadata": {},
     "output_type": "execute_result"
    }
   ],
   "source": [
    "my_string = 'abc'\n",
    "my_string.title()"
   ]
  },
  {
   "cell_type": "code",
   "execution_count": 21,
   "id": "c021c9ee-ab32-4dab-a63e-5abdee5cbd9f",
   "metadata": {
    "editable": true,
    "slideshow": {
     "slide_type": "subslide"
    },
    "tags": []
   },
   "outputs": [],
   "source": [
    "# This is similar to our \"parent/child\" relationship of the first compound function example,\n",
    "# but is much more flexible\n",
    "class MyClass:\n",
    "    def __init__(self, a=1, b=2):\n",
    "        \"\"\"\n",
    "        This function is called when MyClass is \"instantiated\".\n",
    "        \n",
    "        Hyperparameters are set as \"attributes\" of the class\n",
    "        \"\"\"\n",
    "        self.a = a\n",
    "        self.b = b\n",
    "    \n",
    "    def do_something(self, x):\n",
    "        \"\"\"\n",
    "        A function to do something with input data\n",
    "        \"\"\"\n",
    "        print(f'(do_something class method) a={self.a}, b={self.b}, input x = {x}, a+b*x = {self.a+self.b*x}')\n",
    "        return self.a + self.b*x"
   ]
  },
  {
   "cell_type": "code",
   "execution_count": 22,
   "id": "e5e16174-2011-4c0b-86d3-2d5721e55911",
   "metadata": {
    "editable": true,
    "slideshow": {
     "slide_type": "subslide"
    },
    "tags": []
   },
   "outputs": [
    {
     "name": "stdout",
     "output_type": "stream",
     "text": [
      "(do_something class method) a=1, b=2, input x = 3, a+b*x = 7\n"
     ]
    },
    {
     "data": {
      "text/plain": [
       "7"
      ]
     },
     "execution_count": 22,
     "metadata": {},
     "output_type": "execute_result"
    }
   ],
   "source": [
    "# \"instantiate\" the class\n",
    "my_instance = MyClass()\n",
    "\n",
    "# Call the function, i.e., the class \"method\"\n",
    "my_instance.do_something(3)"
   ]
  },
  {
   "cell_type": "code",
   "execution_count": 23,
   "id": "79dc5252-ae0b-46a2-bee0-2c4e9894ef63",
   "metadata": {
    "editable": true,
    "slideshow": {
     "slide_type": "fragment"
    },
    "tags": []
   },
   "outputs": [
    {
     "name": "stdout",
     "output_type": "stream",
     "text": [
      "a:  1\n"
     ]
    }
   ],
   "source": [
    "# The hyperparameters are modifiable \"attributes\" of the class\n",
    "print('a: ', my_instance.a)"
   ]
  },
  {
   "cell_type": "code",
   "execution_count": 24,
   "id": "08a32a03-ddc9-46cc-82eb-4685b7fd7fee",
   "metadata": {
    "editable": true,
    "slideshow": {
     "slide_type": "fragment"
    },
    "tags": []
   },
   "outputs": [
    {
     "name": "stdout",
     "output_type": "stream",
     "text": [
      "(do_something class method) a=5, b=2, input x = 3, a+b*x = 11\n"
     ]
    },
    {
     "data": {
      "text/plain": [
       "11"
      ]
     },
     "execution_count": 24,
     "metadata": {},
     "output_type": "execute_result"
    }
   ],
   "source": [
    "# Modify the attributes and they will be used when the method is called\n",
    "my_instance.a = 5\n",
    "my_instance.do_something(3)"
   ]
  },
  {
   "cell_type": "markdown",
   "id": "ff6634ab-022e-4315-b1e5-678800035f64",
   "metadata": {
    "editable": true,
    "slideshow": {
     "slide_type": "subslide"
    },
    "tags": []
   },
   "source": [
    "We can use the class [builtins](https://docs.python.org/3/library/builtins.html#module-builtins) to add additional functionality / documentation"
   ]
  },
  {
   "cell_type": "code",
   "execution_count": 25,
   "id": "ffa1ff25-f778-4db8-a762-0b05b07232cd",
   "metadata": {
    "editable": true,
    "slideshow": {
     "slide_type": ""
    },
    "tags": []
   },
   "outputs": [
    {
     "name": "stdout",
     "output_type": "stream",
     "text": [
      "<class '__main__.MyClass'>\n"
     ]
    }
   ],
   "source": [
    "# This prints the builtin `__str__` method of the class\n",
    "print(MyClass)"
   ]
  },
  {
   "cell_type": "code",
   "execution_count": 26,
   "id": "7af66ed8-1e89-4e36-a711-1c991b6cbeba",
   "metadata": {
    "editable": true,
    "slideshow": {
     "slide_type": ""
    },
    "tags": []
   },
   "outputs": [
    {
     "name": "stdout",
     "output_type": "stream",
     "text": [
      "<__main__.MyClass object at 0x106e36b60>\n"
     ]
    }
   ],
   "source": [
    "# Or similarly for the instance of the class\n",
    "print(my_instance)"
   ]
  },
  {
   "cell_type": "code",
   "execution_count": 27,
   "id": "84a16260-616f-4112-80d1-eb144adff2cb",
   "metadata": {
    "editable": true,
    "slideshow": {
     "slide_type": ""
    },
    "tags": []
   },
   "outputs": [
    {
     "ename": "TypeError",
     "evalue": "'MyClass' object is not callable",
     "output_type": "error",
     "traceback": [
      "\u001b[0;31m---------------------------------------------------------------------------\u001b[0m",
      "\u001b[0;31mTypeError\u001b[0m                                 Traceback (most recent call last)",
      "Cell \u001b[0;32mIn[27], line 2\u001b[0m\n\u001b[1;32m      1\u001b[0m \u001b[38;5;66;03m# Our class doesn't have a __call__ method that would make it directly callable\u001b[39;00m\n\u001b[0;32m----> 2\u001b[0m \u001b[43mmy_instance\u001b[49m\u001b[43m(\u001b[49m\u001b[38;5;241;43m3\u001b[39;49m\u001b[43m)\u001b[49m\n",
      "\u001b[0;31mTypeError\u001b[0m: 'MyClass' object is not callable"
     ]
    }
   ],
   "source": [
    "# Our class doesn't have a __call__ method that would make it directly callable\n",
    "my_instance(3)"
   ]
  },
  {
   "cell_type": "markdown",
   "id": "6c502f91-5ae4-4d77-aab0-caf320b3765b",
   "metadata": {
    "editable": true,
    "slideshow": {
     "slide_type": "subslide"
    },
    "tags": []
   },
   "source": [
    "But we can override the `__str__` method and write the `__call__` methods:"
   ]
  },
  {
   "cell_type": "code",
   "execution_count": 28,
   "id": "583d9d50-08e1-4598-ae3d-3ba025abe079",
   "metadata": {
    "editable": true,
    "slideshow": {
     "slide_type": ""
    },
    "tags": []
   },
   "outputs": [],
   "source": [
    "# Our class now includes __str__ and __class__ methods and more informative docstrings\n",
    "\n",
    "class BetterClass:\n",
    "\n",
    "    def __init__(self, a=1, b=2):\n",
    "        \"\"\"\n",
    "        This function is called when MyClass is \"instantiated\".\n",
    "\n",
    "        Hyperparameters are set as \"attributes\" of the class\n",
    "\n",
    "        And better still, describe them:\n",
    "\n",
    "        Attributes\n",
    "        ----------\n",
    "        a : int\n",
    "            Parameter that means something\n",
    "\n",
    "        b : int\n",
    "            Parameter that means something else\n",
    "        \"\"\"\n",
    "        self.a = a\n",
    "        self.b = b\n",
    "    \n",
    "    \n",
    "    def __str__(self):\n",
    "        \"\"\"\n",
    "        Override the __str__ builtin to print some information about our hyperparameters\n",
    "        \"\"\"\n",
    "        return f\"{self.__class__} object with a={self.a} b={self.b}\"\n",
    "\n",
    "\n",
    "    def do_something(self, x):\n",
    "        \"\"\"\n",
    "        A function to do something with input data\n",
    "\n",
    "        Parameters\n",
    "        ----------\n",
    "        x : float\n",
    "            Input data\n",
    "\n",
    "        Returns\n",
    "        -------\n",
    "        result : float\n",
    "            a + b*x\n",
    "        \n",
    "        \"\"\"\n",
    "        print(f'(do_something class method) a={self.a}, b={self.b}, input x = {x}, a+b*x = {self.a+self.b*x}')\n",
    "        return self.a + self.b*x\n",
    "\n",
    "        \n",
    "    def __call__(self, x):\n",
    "        \"\"\"\n",
    "        Make the instance callable, passing data `x` to the `do_something` method and returning the result\n",
    "        \"\"\"\n",
    "        return self.do_something(x)\n",
    "        "
   ]
  },
  {
   "cell_type": "code",
   "execution_count": 29,
   "id": "3bb21e29-5c1a-42bd-8d56-9fc6b32cc15b",
   "metadata": {
    "editable": true,
    "slideshow": {
     "slide_type": "subslide"
    },
    "tags": []
   },
   "outputs": [
    {
     "name": "stdout",
     "output_type": "stream",
     "text": [
      "<class '__main__.BetterClass'> object with a=1 b=2\n",
      "<class '__main__.BetterClass'> object with a=1 b=2\n"
     ]
    }
   ],
   "source": [
    "better = BetterClass(a=1, b=2)\n",
    "\n",
    "# Printing now shows the result that we coded above\n",
    "print(better)\n",
    "print(better.__str__()) # the same"
   ]
  },
  {
   "cell_type": "code",
   "execution_count": 30,
   "id": "e5a5cadf-b722-43e7-94bb-15bcc06ef6e2",
   "metadata": {
    "editable": true,
    "slideshow": {
     "slide_type": ""
    },
    "tags": []
   },
   "outputs": [
    {
     "name": "stdout",
     "output_type": "stream",
     "text": [
      "(do_something class method) a=1, b=2, input x = 3, a+b*x = 7\n"
     ]
    },
    {
     "data": {
      "text/plain": [
       "7"
      ]
     },
     "execution_count": 30,
     "metadata": {},
     "output_type": "execute_result"
    }
   ],
   "source": [
    "# And the instance is now callable\n",
    "better(3)"
   ]
  },
  {
   "cell_type": "code",
   "execution_count": 31,
   "id": "25bf7f53-24b6-4f4f-b7a2-f7d9b57b7bee",
   "metadata": {
    "editable": true,
    "slideshow": {
     "slide_type": "fragment"
    },
    "tags": []
   },
   "outputs": [
    {
     "name": "stdout",
     "output_type": "stream",
     "text": [
      "<class '__main__.BetterClass'> object with a=3 b=2\n"
     ]
    }
   ],
   "source": [
    "# Change an attribute\n",
    "better.a = 3\n",
    "print(better)"
   ]
  },
  {
   "cell_type": "code",
   "execution_count": 32,
   "id": "01bb0bdd-2734-4af4-9f86-a17931010688",
   "metadata": {
    "editable": true,
    "slideshow": {
     "slide_type": ""
    },
    "tags": []
   },
   "outputs": [
    {
     "name": "stdout",
     "output_type": "stream",
     "text": [
      "(do_something class method) a=3, b=2, input x = 3, a+b*x = 9\n"
     ]
    },
    {
     "data": {
      "text/plain": [
       "9"
      ]
     },
     "execution_count": 32,
     "metadata": {},
     "output_type": "execute_result"
    }
   ],
   "source": [
    "# Calling uses the updated attributes\n",
    "better(3)"
   ]
  },
  {
   "cell_type": "markdown",
   "id": "9785a334-537c-462d-bd4c-038e7e617f1b",
   "metadata": {
    "editable": true,
    "slideshow": {
     "slide_type": "slide"
    },
    "tags": []
   },
   "source": [
    "# Now define the Lennard-Jones potential as a class\n",
    "\n",
    "This looks like a substantial amount of coding overhead, but there are dramatic benefits for \n",
    "- improving *readibility* (and therefore *maintainability*)\n",
    "- enabiling extending the code functionality to other similar use cases\n"
   ]
  },
  {
   "cell_type": "code",
   "execution_count": 58,
   "id": "de6d6160-6527-4dec-8d66-06ea9a7eca44",
   "metadata": {
    "editable": true,
    "slideshow": {
     "slide_type": ""
    },
    "tags": []
   },
   "outputs": [],
   "source": [
    "class LJPotential():\n",
    "\n",
    "    # Define default attributes here\n",
    "    sigma = SIGMA\n",
    "    epsilon = EPSILON\n",
    "    element = None\n",
    "    \n",
    "    def __init__(self, element=None, sigma=None, epsilon=None):\n",
    "        \"\"\"\n",
    "        Base class for the Lennard-Jones potential\n",
    "        \n",
    "        hyperparameters sigma and epsilon are \"attributes\" of the class.\n",
    "        \n",
    "        Note that writing the __init__ function this way uses the global varables SIGMA, EPSILON defined above\n",
    "\n",
    "        Attributes\n",
    "        ----------\n",
    "        element : str\n",
    "            Optional name of the element we're calculating\n",
    "        sigma : float\n",
    "            Inter-particle distance where the potential is zero\n",
    "\n",
    "        epsilon : \n",
    "            Minimal potential between two atoms\n",
    "            \n",
    "        \"\"\"\n",
    "        # Override default is specified at init\n",
    "        if sigma is not None:\n",
    "            self.sigma = sigma\n",
    "            \n",
    "        if epsilon is not None:\n",
    "            self.epsilon = epsilon\n",
    "\n",
    "        if element is not None:\n",
    "            self.element = element\n",
    "\n",
    "    \n",
    "    def __repr__(self):\n",
    "        \"\"\"\n",
    "        Override the __repr__ builtin to include some information about our hyperparameters\n",
    "        \"\"\"\n",
    "        msg = f\"{self.__class__}: Lennard-Jones potential\"\n",
    "        if isinstance(self.element, str):\n",
    "            msg += f\" of {self.element}\"\n",
    "\n",
    "        msg += f\" with sigma={self.sigma:.3f} epsilon={self.epsilon:.3f}\"\n",
    "        return  msg\n",
    "\n",
    "    \n",
    "    @staticmethod\n",
    "    def distance(points):\n",
    "        \"\"\"\n",
    "        Calculate the distance between all points.\n",
    "        \n",
    "        Here the \"staticmethod\" just takes data as input and doesn't pass `self` as the first argument.  This makes\n",
    "        the method callable even if the class isn't instantiated, but note that it doesn't have access to the \n",
    "        class attributes.\n",
    "        \n",
    "        Parameters\n",
    "        ----------\n",
    "        points : (N,3) array\n",
    "            Cartesian (x,y,z) coordinates for N points\n",
    "\n",
    "        Returns\n",
    "        -------\n",
    "        r : (N, N) array\n",
    "            Cartesian distance between all points (diagonal = 0)\n",
    "        \"\"\"\n",
    "        \n",
    "        # distance(points): returns (N,N)-array of inter-point distances:\n",
    "        displacement = points[:, NA] - points[NA, :]\n",
    "        return np.sqrt(np.sum(displacement*displacement, axis=-1))\n",
    "\n",
    "\n",
    "    def potential(self, dist):\n",
    "        \"\"\"\n",
    "        General calculation of the potential for arbitrary input \n",
    "\n",
    "        Parameters\n",
    "        ----------\n",
    "        dist : array-like\n",
    "            Distances\n",
    "\n",
    "        Returns\n",
    "        -------\n",
    "        pot : array-like\n",
    "            Potential evaluated at ``dist``\n",
    "        \"\"\"\n",
    "        # dimensionless reciprocal distance\n",
    "        f = self.sigma/dist\n",
    "\n",
    "        # calculate the interatomic potentials\n",
    "        pot = 4*self.epsilon*(f**12 - f**6)\n",
    "\n",
    "        return pot\n",
    "    \n",
    "    \n",
    "    def V(self, points):\n",
    "        \"\"\"\n",
    "        Total Lennard-Jones potential of a system of points\n",
    "\n",
    "        Note that this method *calls* the method ``potential``, which takes arbitrary input distances\n",
    "        \n",
    "        Parameters\n",
    "        ----------\n",
    "        points : (N,3) array\n",
    "            Cartesian (x,y,z) coordinates for N points\n",
    "\n",
    "        Returns\n",
    "        -------\n",
    "        pot : float\n",
    "            Total potential\n",
    "            \n",
    "        \"\"\"\n",
    "        # points: (N,3)-array of (x,y,z) coordinates for N points\n",
    "        dist = self.distance(points)\n",
    "\n",
    "        # Fill diagonal with 1, so we don't divide by zero\n",
    "        np.fill_diagonal(dist, 1)\n",
    "\n",
    "        # Calculate all of the rij potentials\n",
    "        pot = self.potential(dist)\n",
    "        \n",
    "        # Undo any diagonal terms (the particles don't interact with themselves)\n",
    "        np.fill_diagonal(pot, 0)\n",
    "\n",
    "        # We could return the sum of just the upper triangular part, corresponding\n",
    "        # to equation 2 in the assignment text. But since the matrix is symmetric,\n",
    "        # we can just sum over all elements and divide by 2\n",
    "        return np.sum(pot)/2\n",
    "\n",
    "    \n",
    "    def __call__(self, points):\n",
    "        \"\"\" Return the potential `V(points)` \"\"\"\n",
    "        return self.V(points)\n",
    "\n",
    "    "
   ]
  },
  {
   "cell_type": "code",
   "execution_count": 34,
   "id": "4292f034-ad87-45dd-ba11-9e337f0f0a57",
   "metadata": {
    "editable": true,
    "slideshow": {
     "slide_type": "subslide"
    },
    "tags": []
   },
   "outputs": [],
   "source": [
    "LJc = LJPotential(sigma=SIGMA, epsilon=EPSILON)"
   ]
  },
  {
   "cell_type": "code",
   "execution_count": 35,
   "id": "6314d796-8147-4bf6-9b86-5154b3e557b6",
   "metadata": {
    "editable": true,
    "slideshow": {
     "slide_type": ""
    },
    "tags": []
   },
   "outputs": [
    {
     "name": "stdout",
     "output_type": "stream",
     "text": [
      "<class '__main__.LJPotential'>: Lennard-Jones potential with sigma=3.401 epsilon=0.997\n"
     ]
    }
   ],
   "source": [
    "print(LJc)"
   ]
  },
  {
   "cell_type": "code",
   "execution_count": 36,
   "id": "26b68a47-5abc-4ba3-9e96-55796641e15f",
   "metadata": {
    "editable": true,
    "slideshow": {
     "slide_type": "subslide"
    },
    "tags": []
   },
   "outputs": [
    {
     "data": {
      "text/plain": [
       "\u001b[0;31mSignature:\u001b[0m \u001b[0mLJc\u001b[0m\u001b[0;34m.\u001b[0m\u001b[0mdistance\u001b[0m\u001b[0;34m(\u001b[0m\u001b[0mpoints\u001b[0m\u001b[0;34m)\u001b[0m\u001b[0;34m\u001b[0m\u001b[0;34m\u001b[0m\u001b[0m\n",
       "\u001b[0;31mDocstring:\u001b[0m\n",
       "Calculate the distance between all points.\n",
       "\n",
       "Here the \"staticmethod\" just takes data as input and doesn't pass `self` as the first argument.  This makes\n",
       "the method callable even if the class isn't instantiated, but note that it doesn't have access to the \n",
       "class attributes.\n",
       "\n",
       "Parameters\n",
       "----------\n",
       "points : (N,3) array\n",
       "    Cartesian (x,y,z) coordinates for N points\n",
       "\n",
       "Returns\n",
       "-------\n",
       "r : (N, N) array\n",
       "    Cartesian distance between all points (diagonal = 0)\n",
       "\u001b[0;31mFile:\u001b[0m      /var/folders/dw/fyp140x977s3y5d2mdxw6m0w0000gn/T/ipykernel_80862/2366203880.py\n",
       "\u001b[0;31mType:\u001b[0m      function"
      ]
     },
     "metadata": {},
     "output_type": "display_data"
    }
   ],
   "source": [
    "LJc.distance?"
   ]
  },
  {
   "cell_type": "code",
   "execution_count": 37,
   "id": "16e58fd6-c377-4c95-9ccf-eb504bf48756",
   "metadata": {
    "editable": true,
    "slideshow": {
     "slide_type": "subslide"
    },
    "tags": []
   },
   "outputs": [
    {
     "data": {
      "text/plain": [
       "\u001b[0;31mSignature:\u001b[0m \u001b[0mLJc\u001b[0m\u001b[0;34m.\u001b[0m\u001b[0mpotential\u001b[0m\u001b[0;34m(\u001b[0m\u001b[0mdist\u001b[0m\u001b[0;34m)\u001b[0m\u001b[0;34m\u001b[0m\u001b[0;34m\u001b[0m\u001b[0m\n",
       "\u001b[0;31mDocstring:\u001b[0m\n",
       "General calculation of the potential for arbitrary input \n",
       "\n",
       "Parameters\n",
       "----------\n",
       "dist : array-like\n",
       "    Distances\n",
       "\n",
       "Returns\n",
       "-------\n",
       "pot : array-like\n",
       "    Potential evaluated at ``dist``\n",
       "\u001b[0;31mFile:\u001b[0m      /var/folders/dw/fyp140x977s3y5d2mdxw6m0w0000gn/T/ipykernel_80862/2366203880.py\n",
       "\u001b[0;31mType:\u001b[0m      method"
      ]
     },
     "metadata": {},
     "output_type": "display_data"
    }
   ],
   "source": [
    "LJc.potential?"
   ]
  },
  {
   "cell_type": "code",
   "execution_count": 38,
   "id": "0f39ac37-135e-4921-b8ca-e70bc03cc952",
   "metadata": {
    "editable": true,
    "slideshow": {
     "slide_type": "subslide"
    },
    "tags": []
   },
   "outputs": [
    {
     "data": {
      "text/plain": [
       "\u001b[0;31mSignature:\u001b[0m \u001b[0mLJc\u001b[0m\u001b[0;34m.\u001b[0m\u001b[0mV\u001b[0m\u001b[0;34m(\u001b[0m\u001b[0mpoints\u001b[0m\u001b[0;34m)\u001b[0m\u001b[0;34m\u001b[0m\u001b[0;34m\u001b[0m\u001b[0m\n",
       "\u001b[0;31mDocstring:\u001b[0m\n",
       "Total Lennard-Jones potential of a system of points\n",
       "\n",
       "Note that this method *calls* the method ``potential``, which takes arbitrary input distances\n",
       "\n",
       "Parameters\n",
       "----------\n",
       "points : (N,3) array\n",
       "    Cartesian (x,y,z) coordinates for N points\n",
       "\n",
       "Returns\n",
       "-------\n",
       "pot : float\n",
       "    Total potential\n",
       "    \n",
       "\u001b[0;31mFile:\u001b[0m      /var/folders/dw/fyp140x977s3y5d2mdxw6m0w0000gn/T/ipykernel_80862/2366203880.py\n",
       "\u001b[0;31mType:\u001b[0m      method"
      ]
     },
     "metadata": {},
     "output_type": "display_data"
    }
   ],
   "source": [
    "LJc.V?"
   ]
  },
  {
   "cell_type": "markdown",
   "id": "5c06cfd4-e921-4d2c-8da1-9abf676f3e43",
   "metadata": {
    "editable": true,
    "slideshow": {
     "slide_type": "slide"
    },
    "tags": []
   },
   "source": [
    "# Compare the results"
   ]
  },
  {
   "cell_type": "code",
   "execution_count": 39,
   "id": "a1edc117-f690-4200-af4b-9f8add822026",
   "metadata": {
    "editable": true,
    "slideshow": {
     "slide_type": "notes"
    },
    "tags": []
   },
   "outputs": [],
   "source": [
    "# Random position data\n",
    "np.random.seed(1)\n",
    "N = 3\n",
    "points = np.random.rand(N, 3)"
   ]
  },
  {
   "cell_type": "code",
   "execution_count": 40,
   "id": "f61ea3d9-14f1-4347-ab99-e56a9411e87d",
   "metadata": {
    "editable": true,
    "slideshow": {
     "slide_type": ""
    },
    "tags": []
   },
   "outputs": [
    {
     "data": {
      "text/plain": [
       "1009685314327.9093"
      ]
     },
     "execution_count": 40,
     "metadata": {},
     "output_type": "execute_result"
    }
   ],
   "source": [
    "# Compound function\n",
    "VLJ = LJ(sigma=SIGMA, epsilon=EPSILON)\n",
    "VLJ(points)"
   ]
  },
  {
   "cell_type": "code",
   "execution_count": 41,
   "id": "1989674c-845f-4883-8340-3b95286f874e",
   "metadata": {
    "editable": true,
    "slideshow": {
     "slide_type": ""
    },
    "tags": []
   },
   "outputs": [
    {
     "data": {
      "text/plain": [
       "1009685314327.9093"
      ]
     },
     "execution_count": 41,
     "metadata": {},
     "output_type": "execute_result"
    }
   ],
   "source": [
    "# Function with keywords\n",
    "Vfunc(points, sigma=SIGMA, epsilon=EPSILON)"
   ]
  },
  {
   "cell_type": "code",
   "execution_count": 42,
   "id": "1c9a6211-2ba6-43ec-8e80-ca4b9f333922",
   "metadata": {
    "editable": true,
    "slideshow": {
     "slide_type": ""
    },
    "tags": []
   },
   "outputs": [
    {
     "data": {
      "text/plain": [
       "1009685314327.9093"
      ]
     },
     "execution_count": 42,
     "metadata": {},
     "output_type": "execute_result"
    }
   ],
   "source": [
    "# Class\n",
    "LJc = LJPotential(sigma=SIGMA, epsilon=EPSILON)\n",
    "# Call V method explicitly\n",
    "LJc.V(points)"
   ]
  },
  {
   "cell_type": "code",
   "execution_count": 43,
   "id": "e4282664-37d8-4b23-bedf-6b366cbaad2f",
   "metadata": {
    "editable": true,
    "slideshow": {
     "slide_type": ""
    },
    "tags": []
   },
   "outputs": [
    {
     "data": {
      "text/plain": [
       "1009685314327.9093"
      ]
     },
     "execution_count": 43,
     "metadata": {},
     "output_type": "execute_result"
    }
   ],
   "source": [
    "# __call__ method calls V\n",
    "LJc(points)"
   ]
  },
  {
   "cell_type": "markdown",
   "id": "57757e33-30bb-4b39-9c33-52d3ba7e5882",
   "metadata": {
    "editable": true,
    "slideshow": {
     "slide_type": "slide"
    },
    "tags": []
   },
   "source": [
    "## Extending class functionality\n",
    "\n",
    "One use for this is that the `LJPotential` class we defined above can be *extended* to additional use cases just by changing the \n",
    "attribute defaults, i.e., the hyperparameters of the Lennard-Jones potential."
   ]
  },
  {
   "cell_type": "code",
   "execution_count": 57,
   "id": "30b5d9d8-1b99-4970-a1b1-41a49767321e",
   "metadata": {
    "editable": true,
    "slideshow": {
     "slide_type": ""
    },
    "tags": []
   },
   "outputs": [],
   "source": [
    "# Written this way, the new classes \"inherit\" the functionality of the `LJPotential` base class\n",
    "class ArgonLJ(LJPotential):\n",
    "    sigma = 3.401\n",
    "    epsilon = 0.997\n",
    "    element = \"Argon\"\n",
    "\n",
    "class NeonLJ(LJPotential):\n",
    "    # http://www.sklogwiki.org/SklogWiki/index.php/Neon#Lennard-Jones_parameters\n",
    "    sigma = 0.2782\n",
    "    epsilon = 3.0840\n",
    "    element = \"Neon\""
   ]
  },
  {
   "cell_type": "code",
   "execution_count": 59,
   "id": "c25c8f8c-7205-4dde-8c2d-9343c3114185",
   "metadata": {
    "editable": true,
    "slideshow": {
     "slide_type": ""
    },
    "tags": []
   },
   "outputs": [
    {
     "name": "stdout",
     "output_type": "stream",
     "text": [
      "<class '__main__.ArgonLJ'>: Lennard-Jones potential of Argon with sigma=3.401 epsilon=0.997\n",
      "<class '__main__.NeonLJ'>: Lennard-Jones potential of Neon with sigma=0.278 epsilon=3.084\n"
     ]
    }
   ],
   "source": [
    "# These have the same methods we defined for the LJPotential \"base\" class\n",
    "ar = ArgonLJ()\n",
    "ne = NeonLJ()\n",
    "\n",
    "# \"print\" runs the `__repr__` builtin method we modified\n",
    "print(ar)\n",
    "print(ne)"
   ]
  },
  {
   "cell_type": "code",
   "execution_count": 46,
   "id": "62a6c2e2-8d3c-4ace-a1e2-ab6ed03c21b0",
   "metadata": {
    "editable": true,
    "slideshow": {
     "slide_type": "subslide"
    },
    "tags": []
   },
   "outputs": [
    {
     "name": "stdout",
     "output_type": "stream",
     "text": [
      "Element: Argon, V(points) =   1009685314327.9093\n",
      "Element:  Neon, V(points) =              -1.8346\n"
     ]
    }
   ],
   "source": [
    "for el in [ar, ne]:\n",
    "    print(f'Element: {el.element:>5}, V(points) = {el(points):>20.4f}')"
   ]
  },
  {
   "cell_type": "code",
   "execution_count": 47,
   "id": "79acf653-e872-4ad2-8aa5-52ef3ca182ad",
   "metadata": {
    "editable": true,
    "slideshow": {
     "slide_type": "fragment"
    },
    "tags": []
   },
   "outputs": [
    {
     "name": "stdout",
     "output_type": "stream",
     "text": [
      "True\n"
     ]
    }
   ],
   "source": [
    "# ar is an instance of the LJPotential base class\n",
    "print(isinstance(ar, LJPotential))"
   ]
  },
  {
   "cell_type": "code",
   "execution_count": 48,
   "id": "be41d9eb-d184-4ce4-ab34-d74fd6fbbba4",
   "metadata": {
    "editable": true,
    "slideshow": {
     "slide_type": "fragment"
    },
    "tags": []
   },
   "outputs": [
    {
     "name": "stdout",
     "output_type": "stream",
     "text": [
      "(<class '__main__.LJPotential'>,)\n"
     ]
    }
   ],
   "source": [
    "print(ar.__class__.__bases__)"
   ]
  },
  {
   "cell_type": "code",
   "execution_count": 60,
   "id": "0c25ea53-9021-41ff-9c35-f6f23b1b5ec6",
   "metadata": {
    "editable": true,
    "slideshow": {
     "slide_type": "subslide"
    },
    "tags": []
   },
   "outputs": [
    {
     "data": {
      "image/png": "[encoded data removed]",
      "text/plain": [
       "<Figure size 800x500 with 1 Axes>"
      ]
     },
     "metadata": {},
     "output_type": "display_data"
    }
   ],
   "source": [
    "import matplotlib.pyplot as plt\n",
    "\n",
    "fig, ax = plt.subplots(1,1,figsize=(8, 5))\n",
    "\n",
    "# Plot 1D potentials\n",
    "dist = np.logspace(np.log10(0.2), np.log10(10), 256)\n",
    "for el in [ar, ne]:\n",
    "    ax.plot(dist, el.potential(dist), label=el.element)\n",
    "\n",
    "ax.set_ylim(-5, 10)\n",
    "ax.semilogx()\n",
    "ax.grid()\n",
    "ax.legend()\n",
    "ax.set_xlabel('distance, $r_{ij}$')\n",
    "_ = ax.set_ylabel(r'$v_{LJ}(r_{ij})$')"
   ]
  },
  {
   "cell_type": "code",
   "execution_count": null,
   "id": "0c207f5d-466a-44bf-a1c3-4166ab9a4b5b",
   "metadata": {
    "editable": true,
    "slideshow": {
     "slide_type": ""
    },
    "tags": []
   },
   "outputs": [],
   "source": []
  }
 ],
 "metadata": {
  "kernelspec": {
   "display_name": "Python 3 (ipykernel)",
   "language": "python",
   "name": "python3"
  },
  "language_info": {
   "codemirror_mode": {
    "name": "ipython",
    "version": 3
   },
   "file_extension": ".py",
   "mimetype": "text/x-python",
   "name": "python",
   "nbconvert_exporter": "python",
   "pygments_lexer": "ipython3",
   "version": "3.10.13"
  }
 },
 "nbformat": 4,
 "nbformat_minor": 5
}
