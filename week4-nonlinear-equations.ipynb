{
 "cells": [
  {
   "cell_type": "markdown",
   "id": "bc990551-7684-4abe-b9d9-9c9b7cce1354",
   "metadata": {
    "editable": true,
    "slideshow": {
     "slide_type": "slide"
    },
    "tags": []
   },
   "source": [
    "# Non-linear equations: Part I\n",
    "\n",
    "Show bisector, secant, and Newton methods for finding roots of non-linear equations with interactive [bokeh](http://bokeh.org/) plots.\n",
    "\n",
    "- G. Brammer (22 September 2025)\n",
    "- https://github.com/gbrammer/scientific-computing/"
   ]
  },
  {
   "cell_type": "markdown",
   "id": "66ce3827-c572-4049-b73e-336822a86b40",
   "metadata": {
    "editable": true,
    "slideshow": {
     "slide_type": "notes"
    },
    "tags": []
   },
   "source": [
    "**Notes for running the demo:** \n",
    "\n",
    "- Launch as slides with \n",
    "\n",
    "```bash\n",
    "$ jupyter nbconvert --to slides week4-nonlinear-equations.ipynb --post serve --TemplateExporter.extra_template_basedirs=${PWD}/slide_templates/ --template revealx\n",
    "```\n",
    "\n",
    "- The interactive bokeh applets use pure-python callbacks.  For now this will only work with `jupyter` running locally and displaying to `localhost` in the browser.  The interactive bokeh plots do not work with cloud-hosted notebooks like [mybinder.org](mybinder.org) or [erda.dk](erda.dk).\n"
   ]
  },
  {
   "cell_type": "code",
   "execution_count": 55,
   "id": "c161a1c1-7642-46f5-b3db-1ca2d0c153d5",
   "metadata": {
    "editable": true,
    "slideshow": {
     "slide_type": "notes"
    },
    "tags": []
   },
   "outputs": [],
   "source": [
    "try:\n",
    "    from bokeh.themes import Theme\n",
    "except ImportError:\n",
    "    print('bokeh required!\\nInstall it with\\n$ pip install bokeh')"
   ]
  },
  {
   "cell_type": "code",
   "execution_count": 56,
   "id": "5f0ae8db-805d-4a68-b929-6b87369d9563",
   "metadata": {
    "editable": true,
    "slideshow": {
     "slide_type": "notes"
    },
    "tags": []
   },
   "outputs": [],
   "source": [
    "import yaml\n",
    "import numpy as np\n",
    "import matplotlib.pyplot as plt\n",
    "plt.rcParams['figure.figsize'] = [9, 5]\n",
    "\n",
    "from bokeh.themes import Theme\n",
    "from bokeh.models.widgets.inputs import AutocompleteInput\n",
    "from bokeh.models.widgets import (PreText, Div, Switch, Dropdown,\n",
    "                                  RangeSlider, Slider, TextInput,\n",
    "                                  MultiSelect, MultiChoice,\n",
    "                                  RadioButtonGroup, Button,\n",
    "                                  Toggle)\n",
    "\n",
    "from bokeh.models import Range1d, Span\n",
    "\n",
    "# from bokeh.models import Switch, Dropdown\n",
    "from bokeh.layouts import column, row, layout\n",
    "from bokeh.plotting import curdoc, figure, show\n",
    "\n",
    "from bokeh.io import output_notebook"
   ]
  },
  {
   "cell_type": "code",
   "execution_count": 57,
   "id": "5ce4365f-6301-49db-a358-0367cc219cbe",
   "metadata": {
    "editable": true,
    "slideshow": {
     "slide_type": "skip"
    },
    "tags": []
   },
   "outputs": [],
   "source": [
    "# %%javascript\n",
    "# // Check if the jupyter port is something other than the default 8888\n",
    "# var port = window.location.port;\n",
    "# if (port != 8888) {\n",
    "#     window.alert(\"In the next cell, use \\n\\nos.environ['BOKEH_ALLOW_WS_ORIGIN'] = 'localhost:\" + port + \"'\\n\")\n",
    "# }"
   ]
  },
  {
   "cell_type": "markdown",
   "id": "1fe1348e-b3d9-4949-b257-aded97233602",
   "metadata": {
    "editable": true,
    "slideshow": {
     "slide_type": "notes"
    },
    "tags": []
   },
   "source": [
    "### Enable BokehJS server\n",
    "\n",
    "Check the host address listed in the browser address bar above and add it in the comma-separated list below if the particular port is not already there.   This usually defaults to something like `localhost:8888/notebooks/week4-nonlinear-equations.ipynb`, but the port can be different, e.g., if you have multiple jupyter sessions running.  The entry needed below is the bit before `/notebooks/`, i.e., `localhost:8888`."
   ]
  },
  {
   "cell_type": "code",
   "execution_count": 58,
   "id": "3c59bd37-40ec-4d5a-9a0e-831e6fefac38",
   "metadata": {
    "editable": true,
    "slideshow": {
     "slide_type": "notes"
    },
    "tags": []
   },
   "outputs": [
    {
     "data": {
      "text/html": [
       "    <style>\n",
       "        .bk-notebook-logo {\n",
       "            display: block;\n",
       "            width: 20px;\n",
       "            height: 20px;\n",
       "            background-image: url(data:image/png;base64,iVBORw0KGgoAAAANSUhEUgAAABQAAAAUCAYAAACNiR0NAAAABHNCSVQICAgIfAhkiAAAAAlwSFlzAAALEgAACxIB0t1+/AAAABx0RVh0U29mdHdhcmUAQWRvYmUgRmlyZXdvcmtzIENTNui8sowAAAOkSURBVDiNjZRtaJVlGMd/1/08zzln5zjP1LWcU9N0NkN8m2CYjpgQYQXqSs0I84OLIC0hkEKoPtiH3gmKoiJDU7QpLgoLjLIQCpEsNJ1vqUOdO7ppbuec5+V+rj4ctwzd8IIbbi6u+8f1539dt3A78eXC7QizUF7gyV1fD1Yqg4JWz84yffhm0qkFqBogB9rM8tZdtwVsPUhWhGcFJngGeWrPzHm5oaMmkfEg1usvLFyc8jLRqDOMru7AyC8saQr7GG7f5fvDeH7Ej8CM66nIF+8yngt6HWaKh7k49Soy9nXurCi1o3qUbS3zWfrYeQDTB/Qj6kX6Ybhw4B+bOYoLKCC9H3Nu/leUTZ1JdRWkkn2ldcCamzrcf47KKXdAJllSlxAOkRgyHsGC/zRday5Qld9DyoM4/q/rUoy/CXh3jzOu3bHUVZeU+DEn8FInkPBFlu3+nW3Nw0mk6vCDiWg8CeJaxEwuHS3+z5RgY+YBR6V1Z1nxSOfoaPa4LASWxxdNp+VWTk7+4vzaou8v8PN+xo+KY2xsw6une2frhw05CTYOmQvsEhjhWjn0bmXPjpE1+kplmmkP3suftwTubK9Vq22qKmrBhpY4jvd5afdRA3wGjFAgcnTK2s4hY0/GPNIb0nErGMCRxWOOX64Z8RAC4oCXdklmEvcL8o0BfkNK4lUg9HTl+oPlQxdNo3Mg4Nv175e/1LDGzZen30MEjRUtmXSfiTVu1kK8W4txyV6BMKlbgk3lMwYCiusNy9fVfvvwMxv8Ynl6vxoByANLTWplvuj/nF9m2+PDtt1eiHPBr1oIfhCChQMBw6Aw0UulqTKZdfVvfG7VcfIqLG9bcldL/+pdWTLxLUy8Qq38heUIjh4XlzZxzQm19lLFlr8vdQ97rjZVOLf8nclzckbcD4wxXMidpX30sFd37Fv/GtwwhzhxGVAprjbg0gCAEeIgwCZyTV2Z1REEW8O4py0wsjeloKoMr6iCY6dP92H6Vw/oTyICIthibxjm/DfN9lVz8IqtqKYLUXfoKVMVQVVJOElGjrnnUt9T9wbgp8AyYKaGlqingHZU/uG2NTZSVqwHQTWkx9hxjkpWDaCg6Ckj5qebgBVbT3V3NNXMSiWSDdGV3hrtzla7J+duwPOToIg42ChPQOQjspnSlp1V+Gjdged7+8UN5CRAV7a5EdFNwCjEaBR27b3W890TE7g24NAP/mMDXRWrGoFPQI9ls/MWO2dWFAar/xcOIImbbpA3zgAAAABJRU5ErkJggg==);\n",
       "        }\n",
       "    </style>\n",
       "    <div>\n",
       "        <a href=\"https://bokeh.org\" target=\"_blank\" class=\"bk-notebook-logo\"></a>\n",
       "        <span id=\"a5072d9e-2eaa-4548-8639-91554bb594f6\">Loading BokehJS ...</span>\n",
       "    </div>\n"
      ]
     },
     "metadata": {},
     "output_type": "display_data"
    },
    {
     "data": {
      "application/javascript": [
       "'use strict';\n",
       "(function(root) {\n",
       "  function now() {\n",
       "    return new Date();\n",
       "  }\n",
       "\n",
       "  const force = true;\n",
       "\n",
       "  if (typeof root._bokeh_onload_callbacks === \"undefined\" || force === true) {\n",
       "    root._bokeh_onload_callbacks = [];\n",
       "    root._bokeh_is_loading = undefined;\n",
       "  }\n",
       "\n",
       "const JS_MIME_TYPE = 'application/javascript';\n",
       "  const HTML_MIME_TYPE = 'text/html';\n",
       "  const EXEC_MIME_TYPE = 'application/vnd.bokehjs_exec.v0+json';\n",
       "  const CLASS_NAME = 'output_bokeh rendered_html';\n",
       "\n",
       "  /**\n",
       "   * Render data to the DOM node\n",
       "   */\n",
       "  function render(props, node) {\n",
       "    const script = document.createElement(\"script\");\n",
       "    node.appendChild(script);\n",
       "  }\n",
       "\n",
       "  /**\n",
       "   * Handle when an output is cleared or removed\n",
       "   */\n",
       "  function handleClearOutput(event, handle) {\n",
       "    function drop(id) {\n",
       "      const view = Bokeh.index.get_by_id(id)\n",
       "      if (view != null) {\n",
       "        view.model.document.clear()\n",
       "        Bokeh.index.delete(view)\n",
       "      }\n",
       "    }\n",
       "\n",
       "    const cell = handle.cell;\n",
       "\n",
       "    const id = cell.output_area._bokeh_element_id;\n",
       "    const server_id = cell.output_area._bokeh_server_id;\n",
       "\n",
       "    // Clean up Bokeh references\n",
       "    if (id != null) {\n",
       "      drop(id)\n",
       "    }\n",
       "\n",
       "    if (server_id !== undefined) {\n",
       "      // Clean up Bokeh references\n",
       "      const cmd_clean = \"from bokeh.io.state import curstate; print(curstate().uuid_to_server['\" + server_id + \"'].get_sessions()[0].document.roots[0]._id)\";\n",
       "      cell.notebook.kernel.execute(cmd_clean, {\n",
       "        iopub: {\n",
       "          output: function(msg) {\n",
       "            const id = msg.content.text.trim()\n",
       "            drop(id)\n",
       "          }\n",
       "        }\n",
       "      });\n",
       "      // Destroy server and session\n",
       "      const cmd_destroy = \"import bokeh.io.notebook as ion; ion.destroy_server('\" + server_id + \"')\";\n",
       "      cell.notebook.kernel.execute(cmd_destroy);\n",
       "    }\n",
       "  }\n",
       "\n",
       "  /**\n",
       "   * Handle when a new output is added\n",
       "   */\n",
       "  function handleAddOutput(event, handle) {\n",
       "    const output_area = handle.output_area;\n",
       "    const output = handle.output;\n",
       "\n",
       "    // limit handleAddOutput to display_data with EXEC_MIME_TYPE content only\n",
       "    if ((output.output_type != \"display_data\") || (!Object.prototype.hasOwnProperty.call(output.data, EXEC_MIME_TYPE))) {\n",
       "      return\n",
       "    }\n",
       "\n",
       "    const toinsert = output_area.element.find(\".\" + CLASS_NAME.split(' ')[0]);\n",
       "\n",
       "    if (output.metadata[EXEC_MIME_TYPE][\"id\"] !== undefined) {\n",
       "      toinsert[toinsert.length - 1].firstChild.textContent = output.data[JS_MIME_TYPE];\n",
       "      // store reference to embed id on output_area\n",
       "      output_area._bokeh_element_id = output.metadata[EXEC_MIME_TYPE][\"id\"];\n",
       "    }\n",
       "    if (output.metadata[EXEC_MIME_TYPE][\"server_id\"] !== undefined) {\n",
       "      const bk_div = document.createElement(\"div\");\n",
       "      bk_div.innerHTML = output.data[HTML_MIME_TYPE];\n",
       "      const script_attrs = bk_div.children[0].attributes;\n",
       "      for (let i = 0; i < script_attrs.length; i++) {\n",
       "        toinsert[toinsert.length - 1].firstChild.setAttribute(script_attrs[i].name, script_attrs[i].value);\n",
       "        toinsert[toinsert.length - 1].firstChild.textContent = bk_div.children[0].textContent\n",
       "      }\n",
       "      // store reference to server id on output_area\n",
       "      output_area._bokeh_server_id = output.metadata[EXEC_MIME_TYPE][\"server_id\"];\n",
       "    }\n",
       "  }\n",
       "\n",
       "  function register_renderer(events, OutputArea) {\n",
       "\n",
       "    function append_mime(data, metadata, element) {\n",
       "      // create a DOM node to render to\n",
       "      const toinsert = this.create_output_subarea(\n",
       "        metadata,\n",
       "        CLASS_NAME,\n",
       "        EXEC_MIME_TYPE\n",
       "      );\n",
       "      this.keyboard_manager.register_events(toinsert);\n",
       "      // Render to node\n",
       "      const props = {data: data, metadata: metadata[EXEC_MIME_TYPE]};\n",
       "      render(props, toinsert[toinsert.length - 1]);\n",
       "      element.append(toinsert);\n",
       "      return toinsert\n",
       "    }\n",
       "\n",
       "    /* Handle when an output is cleared or removed */\n",
       "    events.on('clear_output.CodeCell', handleClearOutput);\n",
       "    events.on('delete.Cell', handleClearOutput);\n",
       "\n",
       "    /* Handle when a new output is added */\n",
       "    events.on('output_added.OutputArea', handleAddOutput);\n",
       "\n",
       "    /**\n",
       "     * Register the mime type and append_mime function with output_area\n",
       "     */\n",
       "    OutputArea.prototype.register_mime_type(EXEC_MIME_TYPE, append_mime, {\n",
       "      /* Is output safe? */\n",
       "      safe: true,\n",
       "      /* Index of renderer in `output_area.display_order` */\n",
       "      index: 0\n",
       "    });\n",
       "  }\n",
       "\n",
       "  // register the mime type if in Jupyter Notebook environment and previously unregistered\n",
       "  if (root.Jupyter !== undefined) {\n",
       "    const events = require('base/js/events');\n",
       "    const OutputArea = require('notebook/js/outputarea').OutputArea;\n",
       "\n",
       "    if (OutputArea.prototype.mime_types().indexOf(EXEC_MIME_TYPE) == -1) {\n",
       "      register_renderer(events, OutputArea);\n",
       "    }\n",
       "  }\n",
       "  if (typeof (root._bokeh_timeout) === \"undefined\" || force === true) {\n",
       "    root._bokeh_timeout = Date.now() + 5000;\n",
       "    root._bokeh_failed_load = false;\n",
       "  }\n",
       "\n",
       "  const NB_LOAD_WARNING = {'data': {'text/html':\n",
       "     \"<div style='background-color: #fdd'>\\n\"+\n",
       "     \"<p>\\n\"+\n",
       "     \"BokehJS does not appear to have successfully loaded. If loading BokehJS from CDN, this \\n\"+\n",
       "     \"may be due to a slow or bad network connection. Possible fixes:\\n\"+\n",
       "     \"</p>\\n\"+\n",
       "     \"<ul>\\n\"+\n",
       "     \"<li>re-rerun `output_notebook()` to attempt to load from CDN again, or</li>\\n\"+\n",
       "     \"<li>use INLINE resources instead, as so:</li>\\n\"+\n",
       "     \"</ul>\\n\"+\n",
       "     \"<code>\\n\"+\n",
       "     \"from bokeh.resources import INLINE\\n\"+\n",
       "     \"output_notebook(resources=INLINE)\\n\"+\n",
       "     \"</code>\\n\"+\n",
       "     \"</div>\"}};\n",
       "\n",
       "  function display_loaded(error = null) {\n",
       "    const el = document.getElementById(\"a5072d9e-2eaa-4548-8639-91554bb594f6\");\n",
       "    if (el != null) {\n",
       "      const html = (() => {\n",
       "        if (typeof root.Bokeh === \"undefined\") {\n",
       "          if (error == null) {\n",
       "            return \"BokehJS is loading ...\";\n",
       "          } else {\n",
       "            return \"BokehJS failed to load.\";\n",
       "          }\n",
       "        } else {\n",
       "          const prefix = `BokehJS ${root.Bokeh.version}`;\n",
       "          if (error == null) {\n",
       "            return `${prefix} successfully loaded.`;\n",
       "          } else {\n",
       "            return `${prefix} <b>encountered errors</b> while loading and may not function as expected.`;\n",
       "          }\n",
       "        }\n",
       "      })();\n",
       "      el.innerHTML = html;\n",
       "\n",
       "      if (error != null) {\n",
       "        const wrapper = document.createElement(\"div\");\n",
       "        wrapper.style.overflow = \"auto\";\n",
       "        wrapper.style.height = \"5em\";\n",
       "        wrapper.style.resize = \"vertical\";\n",
       "        const content = document.createElement(\"div\");\n",
       "        content.style.fontFamily = \"monospace\";\n",
       "        content.style.whiteSpace = \"pre-wrap\";\n",
       "        content.style.backgroundColor = \"rgb(255, 221, 221)\";\n",
       "        content.textContent = error.stack ?? error.toString();\n",
       "        wrapper.append(content);\n",
       "        el.append(wrapper);\n",
       "      }\n",
       "    } else if (Date.now() < root._bokeh_timeout) {\n",
       "      setTimeout(() => display_loaded(error), 100);\n",
       "    }\n",
       "  }\n",
       "\n",
       "  function run_callbacks() {\n",
       "    try {\n",
       "      root._bokeh_onload_callbacks.forEach(function(callback) {\n",
       "        if (callback != null)\n",
       "          callback();\n",
       "      });\n",
       "    } finally {\n",
       "      delete root._bokeh_onload_callbacks\n",
       "    }\n",
       "    console.debug(\"Bokeh: all callbacks have finished\");\n",
       "  }\n",
       "\n",
       "  function load_libs(css_urls, js_urls, callback) {\n",
       "    if (css_urls == null) css_urls = [];\n",
       "    if (js_urls == null) js_urls = [];\n",
       "\n",
       "    root._bokeh_onload_callbacks.push(callback);\n",
       "    if (root._bokeh_is_loading > 0) {\n",
       "      console.debug(\"Bokeh: BokehJS is being loaded, scheduling callback at\", now());\n",
       "      return null;\n",
       "    }\n",
       "    if (js_urls == null || js_urls.length === 0) {\n",
       "      run_callbacks();\n",
       "      return null;\n",
       "    }\n",
       "    console.debug(\"Bokeh: BokehJS not loaded, scheduling load and callback at\", now());\n",
       "    root._bokeh_is_loading = css_urls.length + js_urls.length;\n",
       "\n",
       "    function on_load() {\n",
       "      root._bokeh_is_loading--;\n",
       "      if (root._bokeh_is_loading === 0) {\n",
       "        console.debug(\"Bokeh: all BokehJS libraries/stylesheets loaded\");\n",
       "        run_callbacks()\n",
       "      }\n",
       "    }\n",
       "\n",
       "    function on_error(url) {\n",
       "      console.error(\"failed to load \" + url);\n",
       "    }\n",
       "\n",
       "    for (let i = 0; i < css_urls.length; i++) {\n",
       "      const url = css_urls[i];\n",
       "      const element = document.createElement(\"link\");\n",
       "      element.onload = on_load;\n",
       "      element.onerror = on_error.bind(null, url);\n",
       "      element.rel = \"stylesheet\";\n",
       "      element.type = \"text/css\";\n",
       "      element.href = url;\n",
       "      console.debug(\"Bokeh: injecting link tag for BokehJS stylesheet: \", url);\n",
       "      document.body.appendChild(element);\n",
       "    }\n",
       "\n",
       "    for (let i = 0; i < js_urls.length; i++) {\n",
       "      const url = js_urls[i];\n",
       "      const element = document.createElement('script');\n",
       "      element.onload = on_load;\n",
       "      element.onerror = on_error.bind(null, url);\n",
       "      element.async = false;\n",
       "      element.src = url;\n",
       "      console.debug(\"Bokeh: injecting script tag for BokehJS library: \", url);\n",
       "      document.head.appendChild(element);\n",
       "    }\n",
       "  };\n",
       "\n",
       "  function inject_raw_css(css) {\n",
       "    const element = document.createElement(\"style\");\n",
       "    element.appendChild(document.createTextNode(css));\n",
       "    document.body.appendChild(element);\n",
       "  }\n",
       "\n",
       "  const js_urls = [\"https://cdn.bokeh.org/bokeh/release/bokeh-3.6.3.min.js\", \"https://cdn.bokeh.org/bokeh/release/bokeh-gl-3.6.3.min.js\", \"https://cdn.bokeh.org/bokeh/release/bokeh-widgets-3.6.3.min.js\", \"https://cdn.bokeh.org/bokeh/release/bokeh-tables-3.6.3.min.js\", \"https://cdn.bokeh.org/bokeh/release/bokeh-mathjax-3.6.3.min.js\"];\n",
       "  const css_urls = [];\n",
       "\n",
       "  const inline_js = [    function(Bokeh) {\n",
       "      Bokeh.set_log_level(\"info\");\n",
       "    },\n",
       "function(Bokeh) {\n",
       "    }\n",
       "  ];\n",
       "\n",
       "  function run_inline_js() {\n",
       "    if (root.Bokeh !== undefined || force === true) {\n",
       "      try {\n",
       "            for (let i = 0; i < inline_js.length; i++) {\n",
       "      inline_js[i].call(root, root.Bokeh);\n",
       "    }\n",
       "\n",
       "      } catch (error) {display_loaded(error);throw error;\n",
       "      }if (force === true) {\n",
       "        display_loaded();\n",
       "      }} else if (Date.now() < root._bokeh_timeout) {\n",
       "      setTimeout(run_inline_js, 100);\n",
       "    } else if (!root._bokeh_failed_load) {\n",
       "      console.log(\"Bokeh: BokehJS failed to load within specified timeout.\");\n",
       "      root._bokeh_failed_load = true;\n",
       "    } else if (force !== true) {\n",
       "      const cell = $(document.getElementById(\"a5072d9e-2eaa-4548-8639-91554bb594f6\")).parents('.cell').data().cell;\n",
       "      cell.output_area.append_execute_result(NB_LOAD_WARNING)\n",
       "    }\n",
       "  }\n",
       "\n",
       "  if (root._bokeh_is_loading === 0) {\n",
       "    console.debug(\"Bokeh: BokehJS loaded, going straight to plotting\");\n",
       "    run_inline_js();\n",
       "  } else {\n",
       "    load_libs(css_urls, js_urls, function() {\n",
       "      console.debug(\"Bokeh: BokehJS plotting callback run at\", now());\n",
       "      run_inline_js();\n",
       "    });\n",
       "  }\n",
       "}(window));"
      ],
      "application/vnd.bokehjs_load.v0+json": "'use strict';\n(function(root) {\n  function now() {\n    return new Date();\n  }\n\n  const force = true;\n\n  if (typeof root._bokeh_onload_callbacks === \"undefined\" || force === true) {\n    root._bokeh_onload_callbacks = [];\n    root._bokeh_is_loading = undefined;\n  }\n\n\n  if (typeof (root._bokeh_timeout) === \"undefined\" || force === true) {\n    root._bokeh_timeout = Date.now() + 5000;\n    root._bokeh_failed_load = false;\n  }\n\n  const NB_LOAD_WARNING = {'data': {'text/html':\n     \"<div style='background-color: #fdd'>\\n\"+\n     \"<p>\\n\"+\n     \"BokehJS does not appear to have successfully loaded. If loading BokehJS from CDN, this \\n\"+\n     \"may be due to a slow or bad network connection. Possible fixes:\\n\"+\n     \"</p>\\n\"+\n     \"<ul>\\n\"+\n     \"<li>re-rerun `output_notebook()` to attempt to load from CDN again, or</li>\\n\"+\n     \"<li>use INLINE resources instead, as so:</li>\\n\"+\n     \"</ul>\\n\"+\n     \"<code>\\n\"+\n     \"from bokeh.resources import INLINE\\n\"+\n     \"output_notebook(resources=INLINE)\\n\"+\n     \"</code>\\n\"+\n     \"</div>\"}};\n\n  function display_loaded(error = null) {\n    const el = document.getElementById(\"a5072d9e-2eaa-4548-8639-91554bb594f6\");\n    if (el != null) {\n      const html = (() => {\n        if (typeof root.Bokeh === \"undefined\") {\n          if (error == null) {\n            return \"BokehJS is loading ...\";\n          } else {\n            return \"BokehJS failed to load.\";\n          }\n        } else {\n          const prefix = `BokehJS ${root.Bokeh.version}`;\n          if (error == null) {\n            return `${prefix} successfully loaded.`;\n          } else {\n            return `${prefix} <b>encountered errors</b> while loading and may not function as expected.`;\n          }\n        }\n      })();\n      el.innerHTML = html;\n\n      if (error != null) {\n        const wrapper = document.createElement(\"div\");\n        wrapper.style.overflow = \"auto\";\n        wrapper.style.height = \"5em\";\n        wrapper.style.resize = \"vertical\";\n        const content = document.createElement(\"div\");\n        content.style.fontFamily = \"monospace\";\n        content.style.whiteSpace = \"pre-wrap\";\n        content.style.backgroundColor = \"rgb(255, 221, 221)\";\n        content.textContent = error.stack ?? error.toString();\n        wrapper.append(content);\n        el.append(wrapper);\n      }\n    } else if (Date.now() < root._bokeh_timeout) {\n      setTimeout(() => display_loaded(error), 100);\n    }\n  }\n\n  function run_callbacks() {\n    try {\n      root._bokeh_onload_callbacks.forEach(function(callback) {\n        if (callback != null)\n          callback();\n      });\n    } finally {\n      delete root._bokeh_onload_callbacks\n    }\n    console.debug(\"Bokeh: all callbacks have finished\");\n  }\n\n  function load_libs(css_urls, js_urls, callback) {\n    if (css_urls == null) css_urls = [];\n    if (js_urls == null) js_urls = [];\n\n    root._bokeh_onload_callbacks.push(callback);\n    if (root._bokeh_is_loading > 0) {\n      console.debug(\"Bokeh: BokehJS is being loaded, scheduling callback at\", now());\n      return null;\n    }\n    if (js_urls == null || js_urls.length === 0) {\n      run_callbacks();\n      return null;\n    }\n    console.debug(\"Bokeh: BokehJS not loaded, scheduling load and callback at\", now());\n    root._bokeh_is_loading = css_urls.length + js_urls.length;\n\n    function on_load() {\n      root._bokeh_is_loading--;\n      if (root._bokeh_is_loading === 0) {\n        console.debug(\"Bokeh: all BokehJS libraries/stylesheets loaded\");\n        run_callbacks()\n      }\n    }\n\n    function on_error(url) {\n      console.error(\"failed to load \" + url);\n    }\n\n    for (let i = 0; i < css_urls.length; i++) {\n      const url = css_urls[i];\n      const element = document.createElement(\"link\");\n      element.onload = on_load;\n      element.onerror = on_error.bind(null, url);\n      element.rel = \"stylesheet\";\n      element.type = \"text/css\";\n      element.href = url;\n      console.debug(\"Bokeh: injecting link tag for BokehJS stylesheet: \", url);\n      document.body.appendChild(element);\n    }\n\n    for (let i = 0; i < js_urls.length; i++) {\n      const url = js_urls[i];\n      const element = document.createElement('script');\n      element.onload = on_load;\n      element.onerror = on_error.bind(null, url);\n      element.async = false;\n      element.src = url;\n      console.debug(\"Bokeh: injecting script tag for BokehJS library: \", url);\n      document.head.appendChild(element);\n    }\n  };\n\n  function inject_raw_css(css) {\n    const element = document.createElement(\"style\");\n    element.appendChild(document.createTextNode(css));\n    document.body.appendChild(element);\n  }\n\n  const js_urls = [\"https://cdn.bokeh.org/bokeh/release/bokeh-3.6.3.min.js\", \"https://cdn.bokeh.org/bokeh/release/bokeh-gl-3.6.3.min.js\", \"https://cdn.bokeh.org/bokeh/release/bokeh-widgets-3.6.3.min.js\", \"https://cdn.bokeh.org/bokeh/release/bokeh-tables-3.6.3.min.js\", \"https://cdn.bokeh.org/bokeh/release/bokeh-mathjax-3.6.3.min.js\"];\n  const css_urls = [];\n\n  const inline_js = [    function(Bokeh) {\n      Bokeh.set_log_level(\"info\");\n    },\nfunction(Bokeh) {\n    }\n  ];\n\n  function run_inline_js() {\n    if (root.Bokeh !== undefined || force === true) {\n      try {\n            for (let i = 0; i < inline_js.length; i++) {\n      inline_js[i].call(root, root.Bokeh);\n    }\n\n      } catch (error) {display_loaded(error);throw error;\n      }if (force === true) {\n        display_loaded();\n      }} else if (Date.now() < root._bokeh_timeout) {\n      setTimeout(run_inline_js, 100);\n    } else if (!root._bokeh_failed_load) {\n      console.log(\"Bokeh: BokehJS failed to load within specified timeout.\");\n      root._bokeh_failed_load = true;\n    } else if (force !== true) {\n      const cell = $(document.getElementById(\"a5072d9e-2eaa-4548-8639-91554bb594f6\")).parents('.cell').data().cell;\n      cell.output_area.append_execute_result(NB_LOAD_WARNING)\n    }\n  }\n\n  if (root._bokeh_is_loading === 0) {\n    console.debug(\"Bokeh: BokehJS loaded, going straight to plotting\");\n    run_inline_js();\n  } else {\n    load_libs(css_urls, js_urls, function() {\n      console.debug(\"Bokeh: BokehJS plotting callback run at\", now());\n      run_inline_js();\n    });\n  }\n}(window));"
     },
     "metadata": {},
     "output_type": "display_data"
    }
   ],
   "source": [
    "# If the previous cell raised a message, set the line below with the port as indicated\n",
    "import os\n",
    "\n",
    "# os.environ['BOKEH_ALLOW_WS_ORIGIN'] = 'localhost:8888,localhost:8891,localhost:8892,127.0.0.1:8000'\n",
    "\n",
    "PORT = 8891\n",
    "os.environ['BOKEH_ALLOW_WS_ORIGIN'] = f'localhost:{PORT},127.0.0.1:8000'\n",
    "show_kws = dict(notebook_handle=True, notebook_url=f'localhost:{PORT}')\n",
    "\n",
    "# Load this notebook as the bokeh server\n",
    "output_notebook()"
   ]
  },
  {
   "cell_type": "code",
   "execution_count": 59,
   "id": "dca5f277-3712-47f4-b0c7-b0e5f28f4f66",
   "metadata": {
    "editable": true,
    "slideshow": {
     "slide_type": "notes"
    },
    "tags": []
   },
   "outputs": [],
   "source": [
    "# Function plotting range\n",
    "x = np.linspace(-4,4, 1024)\n",
    "\n",
    "# plot a function\n",
    "def plot_func(func, deriv, title=None):\n",
    "    plt.plot(x, func(x), label=r'$f(x)$')\n",
    "    if deriv is not None:\n",
    "        plt.plot(x, deriv(x), label=r\"$f^\\prime(x)$\")\n",
    "        \n",
    "    plt.hlines(0, *plt.xlim(), color='g', linestyle='--', label=r'$y$=0')\n",
    "    if title is not None:\n",
    "        plt.title(title)\n",
    "        \n",
    "    plt.legend()\n",
    "    plt.grid()"
   ]
  },
  {
   "cell_type": "markdown",
   "id": "49196893-c8b1-4aee-8e21-a7f1e29cc89e",
   "metadata": {
    "editable": true,
    "slideshow": {
     "slide_type": "slide"
    },
    "tags": []
   },
   "source": [
    "# Motivation\n",
    "\n",
    "We want to find *roots* of non-linear equations $f(\\mathbf{x}) = \\mathbf{0}$.\n",
    "\n",
    "- Linear equations ($A~\\mathbf{x} = \\mathbf{b}$) are easy (weeks 1+2)!\n",
    "\n",
    "- On Wednesday we'll discuss how to find roots in *systems* of non-linear equations, but let's start today in 1D."
   ]
  },
  {
   "cell_type": "code",
   "execution_count": 60,
   "id": "8ac58a29-6e6d-4e87-9793-8ea69bd6bd52",
   "metadata": {
    "editable": true,
    "slideshow": {
     "slide_type": "subslide"
    },
    "tags": []
   },
   "outputs": [
    {
     "data": {
      "image/png": "[encoded data removed]",
      "text/plain": [
       "<Figure size 900x500 with 1 Axes>"
      ]
     },
     "metadata": {},
     "output_type": "display_data"
    }
   ],
   "source": [
    "# Some example functions\n",
    "fx = lambda x: np.exp(-x) + x\n",
    "plot_func(fx, None, title=r'$e^{-x} + x$')"
   ]
  },
  {
   "cell_type": "code",
   "execution_count": 61,
   "id": "bbf9a77d-78d6-48ee-8c25-d47c96589e87",
   "metadata": {
    "editable": true,
    "slideshow": {
     "slide_type": "subslide"
    },
    "tags": []
   },
   "outputs": [
    {
     "data": {
      "image/png": "[encoded data removed]",
      "text/plain": [
       "<Figure size 900x500 with 1 Axes>"
      ]
     },
     "metadata": {},
     "output_type": "display_data"
    }
   ],
   "source": [
    "fx = lambda x: np.exp(-x) - 1 \n",
    "plot_func(fx, None, title=r'$e^{-x} - 1$')"
   ]
  },
  {
   "cell_type": "code",
   "execution_count": 62,
   "id": "99a22214-cc3a-4ddf-95b8-a467cc42f2ae",
   "metadata": {
    "editable": true,
    "slideshow": {
     "slide_type": "subslide"
    },
    "tags": []
   },
   "outputs": [
    {
     "data": {
      "image/png": "[encoded data removed]",
      "text/plain": [
       "<Figure size 900x500 with 1 Axes>"
      ]
     },
     "metadata": {},
     "output_type": "display_data"
    }
   ],
   "source": [
    "fx = lambda x: np.exp(-x) + x - 2\n",
    "plot_func(fx, None, title=r'$e^{-x} + x - 2$')"
   ]
  },
  {
   "cell_type": "code",
   "execution_count": 63,
   "id": "2559de7b-a025-410c-a277-4bccb5de182c",
   "metadata": {
    "editable": true,
    "slideshow": {
     "slide_type": "subslide"
    },
    "tags": []
   },
   "outputs": [
    {
     "data": {
      "image/png": "[encoded data removed]",
      "text/plain": [
       "<Figure size 900x500 with 1 Axes>"
      ]
     },
     "metadata": {},
     "output_type": "display_data"
    }
   ],
   "source": [
    "fx = lambda x: np.sin(x*np.pi)\n",
    "plot_func(fx, None, title=r'$\\sin{\\pi x}$')"
   ]
  },
  {
   "cell_type": "markdown",
   "id": "c77bbd6f-0020-459f-96f7-803985450a10",
   "metadata": {
    "editable": true,
    "slideshow": {
     "slide_type": "slide"
    },
    "tags": []
   },
   "source": [
    "# Finding roots in 1D\n",
    "\n",
    "The *Intermediate Value Theorem* states:\n",
    "\n",
    "> If $f$ is continuous in $[a,b]$ and $c$ is between $f(a)$ and $f(b)$, then there exists a value $x^* \\in [a,b]$ such that $f(x^*) = c$.\n",
    "\n",
    "So if $\\mathrm{sign}(f(a)) \\ne \\mathrm{sign}(f(b))$, then there must be a root of $f$ in $[a,b]$."
   ]
  },
  {
   "cell_type": "code",
   "execution_count": 64,
   "id": "5623c39c-fbd8-4f16-8513-b172f5401fec",
   "metadata": {
    "editable": true,
    "slideshow": {
     "slide_type": "subslide"
    },
    "tags": []
   },
   "outputs": [
    {
     "data": {
      "image/png": "[encoded data removed]",
      "text/plain": [
       "<Figure size 900x500 with 1 Axes>"
      ]
     },
     "metadata": {},
     "output_type": "display_data"
    }
   ],
   "source": [
    "fx = lambda x: x\n",
    "plot_func(fx, None, title=r'y=x')\n",
    "plt.scatter([-1,1], [-1,1], label='a=-1, b=-1', s=200); _ = plt.legend()"
   ]
  },
  {
   "cell_type": "code",
   "execution_count": 65,
   "id": "507659e5-40c2-4042-bdd0-2e21da0807f8",
   "metadata": {
    "editable": true,
    "slideshow": {
     "slide_type": "subslide"
    },
    "tags": []
   },
   "outputs": [
    {
     "data": {
      "image/png": "[encoded data removed]",
      "text/plain": [
       "<Figure size 900x500 with 1 Axes>"
      ]
     },
     "metadata": {},
     "output_type": "display_data"
    }
   ],
   "source": [
    "fx = lambda x: x\n",
    "plot_func(fx, None, title=r'y=x')\n",
    "plt.scatter([-1,1], [-1,1], label='a=-1, b=-1', s=200); _ = plt.legend()\n",
    "_ = plt.plot(x, np.sin(x*np.pi*5./2))"
   ]
  },
  {
   "cell_type": "markdown",
   "id": "b528a029-57b6-419c-847c-0c36cfe820d2",
   "metadata": {
    "editable": true,
    "slideshow": {
     "slide_type": "slide"
    },
    "tags": []
   },
   "source": [
    "## Uniqueness (of a root)\n",
    "\n",
    "In 1D we only have the worry that a root may also be a minimum or a maximum.\n",
    "\n",
    "So we have a **simple** root when $f(x) = 0 \\wedge f^\\prime(x) \\ne 0$.\n",
    "\n",
    "And we have a **multiple** root when $f(x) = 0 \\wedge f^\\prime(x) = 0$.\n",
    "\n",
    "However, it's generally very difficult to generalize an answer to\n",
    "> *How many (simple, multiple) roots are beteween $[a,b]$*?"
   ]
  },
  {
   "cell_type": "markdown",
   "id": "8132ee4e-30eb-4814-be0c-4a01a0f567b9",
   "metadata": {
    "editable": true,
    "slideshow": {
     "slide_type": "subslide"
    },
    "tags": []
   },
   "source": [
    "# Sensitivity\n",
    "\n",
    "How does the function behave around the root?\n",
    "- Approaching rapidly\n",
    "- Approaching extremely slowly"
   ]
  },
  {
   "cell_type": "markdown",
   "id": "c00c99a2-e188-4f77-83f7-a7c334ab7d16",
   "metadata": {
    "editable": true,
    "slideshow": {
     "slide_type": "fragment"
    },
    "tags": []
   },
   "source": [
    "# Conditioning\n",
    "\n",
    "We work with absolute conditioning numbers, since we're working with absolute numbers around $y=0$ at the root.  As with linear equations we have that $c = \\frac{1}{| f^\\prime(x^*) |}$.\n",
    "\n",
    "If $| f^\\prime(x^*) | \\leq \\epsilon$, then the error of $|\\hat x - x^*|$ may be as large as $\\frac{\\epsilon}{| f^\\prime(x^*) |}$.  \n",
    "\n",
    "This means that in 1D a multiple root ($f^\\prime(x) = 0$) has an *infinite* conditioning number - we are obviously very sensitive numerically at this point."
   ]
  },
  {
   "cell_type": "markdown",
   "id": "6c39bf2a-8202-4fc9-8ea1-68d57ebcb2be",
   "metadata": {
    "editable": true,
    "slideshow": {
     "slide_type": "subslide"
    },
    "tags": []
   },
   "source": [
    "# Convergence rates\n",
    "\n",
    "$e_k = x_k - x^*$\n",
    "\n",
    "$\\lim_{k \\to \\infty} \\frac{|| e_{k+1} ||}{||e_k||^r} = C$ for some constant $C>0$."
   ]
  },
  {
   "cell_type": "markdown",
   "id": "9267e692-e1df-4955-8452-b0d703469e67",
   "metadata": {
    "editable": true,
    "slideshow": {
     "slide_type": "fragment"
    },
    "tags": []
   },
   "source": [
    "($C < 1$)\n",
    "\n",
    "- $r=1$: Linear convergence\n",
    "- $r=2$: Quadratic convergence\n",
    "- $1 < r < 2$: Superlinear convergence"
   ]
  },
  {
   "cell_type": "markdown",
   "id": "c1e17c59-789b-48f2-9a02-325a0e896e82",
   "metadata": {
    "editable": true,
    "slideshow": {
     "slide_type": "slide"
    },
    "tags": []
   },
   "source": [
    "**Example 5.1** from the book:\n",
    "\n",
    "$f(x) = x^2 - 4 \\sin(x)$\n",
    "\n",
    "$f^\\prime(x) = 2 x - 4 \\cos(x)$\n"
   ]
  },
  {
   "cell_type": "code",
   "execution_count": 66,
   "id": "cfd72ad0-97f5-46a7-96e7-75e43252a70e",
   "metadata": {
    "editable": true,
    "slideshow": {
     "slide_type": "notes"
    },
    "tags": []
   },
   "outputs": [],
   "source": [
    "# Define with global variables to count function calls\n",
    "FUNC_CALLS = 0\n",
    "DERIV_CALLS = 0\n",
    "\n",
    "a0, b0 = -3.01, 1.01\n",
    "\n",
    "def myfunc(x):\n",
    "    global FUNC_CALLS\n",
    "    FUNC_CALLS += 1\n",
    "    \n",
    "    return np.array(x)**2 - 4*np.sin(x)\n",
    "\n",
    "def myfunc_deriv(x):\n",
    "    global DERIV_CALLS\n",
    "    DERIV_CALLS += 1\n",
    "    \n",
    "    return 2*np.array(x) - 4*np.cos(x)\n",
    "\n",
    "# Copies in case we change it later\n",
    "orig_func = myfunc\n",
    "orig_deriv = myfunc_deriv"
   ]
  },
  {
   "cell_type": "code",
   "execution_count": 67,
   "id": "0a9387df-2672-49d6-800a-7e21ead9cf4f",
   "metadata": {
    "editable": true,
    "slideshow": {
     "slide_type": ""
    },
    "tags": []
   },
   "outputs": [
    {
     "data": {
      "image/png": "[encoded data removed]",
      "text/plain": [
       "<Figure size 900x500 with 1 Axes>"
      ]
     },
     "metadata": {},
     "output_type": "display_data"
    }
   ],
   "source": [
    "plot_func(myfunc, myfunc_deriv, title='Book Example 5.1')"
   ]
  },
  {
   "cell_type": "markdown",
   "id": "5640cfb3-506d-4432-98cb-cb1a43e1c4dc",
   "metadata": {
    "editable": true,
    "slideshow": {
     "slide_type": "slide"
    },
    "tags": []
   },
   "source": [
    "# Find roots with the `bisection` algorithm\n",
    "\n",
    "1. *\"bracket the root\"*: Find an interval $[a,b]$ where $\\mathrm{sign}(f(a)) \\ne \\mathrm{sign}(f(b))$.\n",
    "1. Evaluate $f$ at the midpoint $m$ between $[a,b]$.\n",
    "1. If $\\mathrm{sign}(f(m)) = \\mathrm{sign}(f(a))$, then $a \\rightarrow m$.\n",
    "    - Else $b \\rightarrow m$.\n",
    "1. Repeat ..."
   ]
  },
  {
   "cell_type": "markdown",
   "id": "6a1d2916-7e96-41fb-9006-24f641247a5d",
   "metadata": {
    "editable": true,
    "slideshow": {
     "slide_type": "fragment"
    },
    "tags": []
   },
   "source": [
    "### Convergence\n",
    "\n",
    "$\\lim_{k \\to \\infty} \\frac{|| e_{k+1} ||}{||e_k||^r} = C$\n",
    "\n",
    "$r=1$, $C=0.5$ : *linear* convergence.\n",
    "\n",
    "The interval is reduced in half at each iteration, so after $k$ iterations the interval has width $(b-a)/2^k$.\n",
    "\n",
    "So if achieving a tolerance $tol$ requires $k=\\log_2 \\left(\\frac{b-a}{tol}\\right)$ steps."
   ]
  },
  {
   "cell_type": "code",
   "execution_count": 68,
   "id": "a581ddb4-4f26-46af-b12b-e044584461df",
   "metadata": {
    "editable": true,
    "slideshow": {
     "slide_type": "subslide"
    },
    "tags": []
   },
   "outputs": [],
   "source": [
    "def bisection_root(func, a, b, n_steps=2, tol=None):\n",
    "    \"\"\"\n",
    "    Do iterations of the bisection method to find roots\n",
    "    \"\"\"\n",
    "    global FUNC_CALLS\n",
    "    FUNC_CALLS = 0\n",
    "    \n",
    "    fa = func(a)\n",
    "    fb = func(b)\n",
    "    \n",
    "    if np.sign(fa) == np.sign(fb):\n",
    "        # need to have opposite sign before we begin\n",
    "        raise ValueError(f'sign(f({a})) is the same as sign(f({b})) !')\n",
    "\n",
    "    if tol is not None:\n",
    "        n_steps = int(np.ceil(np.log2((b-a)/tol)))\n",
    "\n",
    "    i = 0\n",
    "    for i in range(n_steps):\n",
    "        m = a + (b-a)/2. # equivalent to (a+b) / 2 but doesn't overflow\n",
    "        fm = func(m)\n",
    "\n",
    "        if np.sign(fm) == np.sign(fa):\n",
    "            # f(m) and f(a) have same sign, new interval is [a=m, b]\n",
    "            a, fa = m, fm\n",
    "        else:\n",
    "            # f(m) and f(a) have opposite sign, new interval is [a, b=m]\n",
    "            b, fb = m, fm\n",
    "\n",
    "    return a, b, i\n",
    "            "
   ]
  },
  {
   "cell_type": "code",
   "execution_count": 69,
   "id": "7cd56f71-ad57-40af-b77b-c5d1b8c4d6ca",
   "metadata": {
    "editable": true,
    "slideshow": {
     "slide_type": "fragment"
    },
    "tags": []
   },
   "outputs": [
    {
     "name": "stdout",
     "output_type": "stream",
     "text": [
      "n_steps: 5, function calls: 7\n"
     ]
    }
   ],
   "source": [
    "# Test it\n",
    "n = 5\n",
    "ai, bi, i = bisection_root(myfunc, -1, 0.8, n_steps=5) # OK\n",
    "\n",
    "print(f'n_steps: {n}, function calls: {FUNC_CALLS}')"
   ]
  },
  {
   "cell_type": "code",
   "execution_count": 70,
   "id": "7ee2272f-e97f-4249-85e4-b9b42b0f289e",
   "metadata": {
    "editable": true,
    "slideshow": {
     "slide_type": "subslide"
    },
    "tags": []
   },
   "outputs": [
    {
     "ename": "ValueError",
     "evalue": "sign(f(-1)) is the same as sign(f(3)) !",
     "output_type": "error",
     "traceback": [
      "\u001b[0;31m---------------------------------------------------------------------------\u001b[0m",
      "\u001b[0;31mValueError\u001b[0m                                Traceback (most recent call last)",
      "Cell \u001b[0;32mIn[70], line 2\u001b[0m\n\u001b[1;32m      1\u001b[0m \u001b[38;5;66;03m# breaks because signs are the same\u001b[39;00m\n\u001b[0;32m----> 2\u001b[0m ai, bi, i \u001b[38;5;241m=\u001b[39m \u001b[43mbisection_root\u001b[49m\u001b[43m(\u001b[49m\u001b[43mmyfunc\u001b[49m\u001b[43m,\u001b[49m\u001b[43m \u001b[49m\u001b[38;5;241;43m-\u001b[39;49m\u001b[38;5;241;43m1\u001b[39;49m\u001b[43m,\u001b[49m\u001b[43m \u001b[49m\u001b[38;5;241;43m3\u001b[39;49m\u001b[43m,\u001b[49m\u001b[43m \u001b[49m\u001b[43mn_steps\u001b[49m\u001b[38;5;241;43m=\u001b[39;49m\u001b[38;5;241;43m5\u001b[39;49m\u001b[43m)\u001b[49m \u001b[38;5;66;03m# OK\u001b[39;00m\n",
      "Cell \u001b[0;32mIn[68], line 13\u001b[0m, in \u001b[0;36mbisection_root\u001b[0;34m(func, a, b, n_steps, tol)\u001b[0m\n\u001b[1;32m      9\u001b[0m fb \u001b[38;5;241m=\u001b[39m func(b)\n\u001b[1;32m     11\u001b[0m \u001b[38;5;28;01mif\u001b[39;00m np\u001b[38;5;241m.\u001b[39msign(fa) \u001b[38;5;241m==\u001b[39m np\u001b[38;5;241m.\u001b[39msign(fb):\n\u001b[1;32m     12\u001b[0m     \u001b[38;5;66;03m# need to have opposite sign before we begin\u001b[39;00m\n\u001b[0;32m---> 13\u001b[0m     \u001b[38;5;28;01mraise\u001b[39;00m \u001b[38;5;167;01mValueError\u001b[39;00m(\u001b[38;5;124mf\u001b[39m\u001b[38;5;124m'\u001b[39m\u001b[38;5;124msign(f(\u001b[39m\u001b[38;5;132;01m{\u001b[39;00ma\u001b[38;5;132;01m}\u001b[39;00m\u001b[38;5;124m)) is the same as sign(f(\u001b[39m\u001b[38;5;132;01m{\u001b[39;00mb\u001b[38;5;132;01m}\u001b[39;00m\u001b[38;5;124m)) !\u001b[39m\u001b[38;5;124m'\u001b[39m)\n\u001b[1;32m     15\u001b[0m \u001b[38;5;28;01mif\u001b[39;00m tol \u001b[38;5;129;01mis\u001b[39;00m \u001b[38;5;129;01mnot\u001b[39;00m \u001b[38;5;28;01mNone\u001b[39;00m:\n\u001b[1;32m     16\u001b[0m     n_steps \u001b[38;5;241m=\u001b[39m \u001b[38;5;28mint\u001b[39m(np\u001b[38;5;241m.\u001b[39mceil(np\u001b[38;5;241m.\u001b[39mlog2((b\u001b[38;5;241m-\u001b[39ma)\u001b[38;5;241m/\u001b[39mtol)))\n",
      "\u001b[0;31mValueError\u001b[0m: sign(f(-1)) is the same as sign(f(3)) !"
     ]
    }
   ],
   "source": [
    "# breaks because signs are the same\n",
    "ai, bi, i = bisection_root(myfunc, -1, 3, n_steps=5) # OK"
   ]
  },
  {
   "cell_type": "code",
   "execution_count": null,
   "id": "c22aea2f-0ab7-4a73-a294-a14e5799bcdd",
   "metadata": {
    "editable": true,
    "slideshow": {
     "slide_type": "skip"
    },
    "tags": []
   },
   "outputs": [],
   "source": [
    "for n in range(8):\n",
    "    ai, bi, i = bisection_root(myfunc, a0, b0, n_steps=n)\n",
    "    print(f'{n} {ai:.3f} {bi:.3f}')"
   ]
  },
  {
   "cell_type": "code",
   "execution_count": null,
   "id": "63d72827-31f5-4189-ac8d-7bf748b505b4",
   "metadata": {
    "editable": true,
    "slideshow": {
     "slide_type": "notes"
    },
    "tags": []
   },
   "outputs": [],
   "source": [
    "# Make a bokeh \"app\" for interactive plotting    \n",
    "# Awkward packagaging so that can use a pure-python callback\n",
    "\n",
    "app_width = 800\n",
    "app_height = 600\n",
    "\n",
    "def bisect_app(doc):\n",
    "    global myfunc\n",
    "    \n",
    "    def text_label(a, b):\n",
    "        return f'a={a:8.4e} b={b:8.4e}  m={a + (b-a)/2.:8.4e}'\n",
    "\n",
    "    ITEM_HEIGHT = 48\n",
    "\n",
    "    fig = figure(title=\"bisection\", width=app_width - 16, height=app_height - 2*ITEM_HEIGHT - 16,\n",
    "                 background_fill_color='white',\n",
    "                 active_drag='box_zoom')\n",
    "    \n",
    "    fig.xaxis.axis_label = 'x'\n",
    "    fig.yaxis.axis_label = 'y'\n",
    "    fig.xaxis.axis_label_text_font_style = \"normal\"\n",
    "    fig.yaxis.axis_label_text_font_style = \"normal\"\n",
    "\n",
    "    data_line = fig.line(x=x, y=myfunc(x), color='black', alpha=0.5, line_width=2, legend_label='f(x)')\n",
    "    init_scatter = fig.scatter([0,0], [0,0], size=10, color='black')\n",
    "    # step_scatter = fig.scatter([0,0], [0,0], size=10, color='red', alpha=0.8)\n",
    "\n",
    "    spans = fig.vspan(x=[0, 0], line_color='red', line_alpha=0.5, legend_label='a, b')\n",
    "    yroot = fig.hspan(y=[0], line_color='green', line_alpha=0.3, legend_label='midpt')\n",
    "\n",
    "    midp_vline = fig.vspan(x=[0], line_color='magenta', line_alpha=0.5)\n",
    "    \n",
    "    text_a = TextInput(title='a', value=f'{a0:.2f}', width=70, height=ITEM_HEIGHT)\n",
    "    text_b = TextInput(title='b', value=f'{b0:.2f}', width=70, height=ITEM_HEIGHT)\n",
    "\n",
    "    txt = Div(text=text_label(a0, b0), sizing_mode=\"fixed\", width=450, height=ITEM_HEIGHT,\n",
    "              styles={'font-size': '110%', 'font-family': 'monospace'})\n",
    "    \n",
    "    nsteps = Slider(start=0, end=20, value=0, step=1, \n",
    "                    title='n_steps', sizing_mode=\"fixed\", width=200, height=ITEM_HEIGHT)\n",
    "    \n",
    "    def update_steps():\n",
    "        \"\"\"\n",
    "        Perform n steps of the bisection algorithm and then plot the results\n",
    "        \"\"\"\n",
    "        n_step = nsteps.value\n",
    "        a0i = float(text_a.value)\n",
    "        b0i = float(text_b.value)\n",
    "\n",
    "        init_scatter.data_source.data = {'x': [a0i, b0i], 'y': myfunc([a0i, b0i])}\n",
    "\n",
    "        ai, bi, i = bisection_root(myfunc, a0i, b0i, n_steps=n_step, tol=None)\n",
    "        # step_scatter.data_source.data = {'x': [ai, bi], 'y': myfunc([ai, bi])}\n",
    "        spans.data_source.data = {'x': [ai, bi]}\n",
    "        \n",
    "        m = ai + (bi-ai)/2        \n",
    "        midp_vline.data_source.data = {'x': [m]}\n",
    "\n",
    "        txt.text = text_label(ai, bi)\n",
    "\n",
    "    update_steps()\n",
    "    \n",
    "    nsteps.on_change('value', lambda attr, old, new: update_steps())\n",
    "    text_a.on_change('value', lambda attr, old, new: update_steps())\n",
    "    text_b.on_change('value', lambda attr, old, new: update_steps())\n",
    "    \n",
    "    sliders = row(nsteps)\n",
    "    p = layout([[text_a, text_b, sliders, txt],\n",
    "                [fig]])\n",
    "\n",
    "    doc.add_root(p)\n",
    "    \n",
    "    doc.theme = Theme(json=yaml.load(f\"\"\"\n",
    "        attrs:\n",
    "            figure:\n",
    "                background_fill_color: \"#DDDDDD\"\n",
    "                outline_line_color: white\n",
    "                toolbar_location: below\n",
    "                height: {app_height - 200}\n",
    "                width: {app_width}\n",
    "            Grid:\n",
    "                grid_line_dash: [2, 2]\n",
    "                grid_line_color: lightgray\n",
    "    \"\"\", Loader=yaml.FullLoader))\n"
   ]
  },
  {
   "cell_type": "code",
   "execution_count": null,
   "id": "dc1affd3-48c2-4d4b-b51b-ca741e1bfa29",
   "metadata": {
    "editable": true,
    "slideshow": {
     "slide_type": "subslide"
    },
    "tags": []
   },
   "outputs": [],
   "source": [
    "show(bisect_app, **show_kws)"
   ]
  },
  {
   "cell_type": "markdown",
   "id": "a3cd94cc-ff8a-4341-be3a-086577582678",
   "metadata": {
    "editable": true,
    "slideshow": {
     "slide_type": "slide"
    },
    "tags": []
   },
   "source": [
    "# Fixed-point integration\n",
    "\n",
    "$x_{k+1} = g(x_k)$\n",
    "\n",
    "If $x^* = g(x^*)$ and $|g^\\prime(x^*)| < 1$, then the iterative scheme is *locally convergent*."
   ]
  },
  {
   "cell_type": "code",
   "execution_count": null,
   "id": "06b505ca-513a-497e-8828-019a0e7c171f",
   "metadata": {
    "editable": true,
    "slideshow": {
     "slide_type": ""
    },
    "tags": []
   },
   "outputs": [],
   "source": [
    "def fixed_point(func, x0, n_steps=3):\n",
    "    \"\"\"\n",
    "    Fixed point demo\n",
    "    \"\"\"\n",
    "    xk = x0   \n",
    "    for i in range(n_steps):\n",
    "        xi = func(xk)\n",
    "        xk = xi\n",
    "        \n",
    "    return xk, i"
   ]
  },
  {
   "cell_type": "code",
   "execution_count": null,
   "id": "65e6a758-e87f-470f-bd61-546a12b95f59",
   "metadata": {
    "editable": true,
    "slideshow": {
     "slide_type": "notes"
    },
    "tags": []
   },
   "outputs": [],
   "source": [
    "def fixed_point_trace(func, x0, n_steps=3):\n",
    "    \"\"\"\n",
    "    keep track of the trace for plotting\n",
    "    \"\"\"\n",
    "    xk = x0\n",
    "    xtrace, ytrace = [xk, xk], [xk, xk]\n",
    "    \n",
    "    for i in range(n_steps):\n",
    "        xi = func(xk)\n",
    "        if np.abs(xi) > 1e5:\n",
    "            break\n",
    "\n",
    "        xtrace += [xk, xk]\n",
    "        ytrace += [xk, xi]\n",
    "        xk = xi\n",
    "        \n",
    "    return xk, xtrace, ytrace"
   ]
  },
  {
   "cell_type": "code",
   "execution_count": null,
   "id": "e6b23233-54e4-46b5-b03f-e380859a2063",
   "metadata": {
    "editable": true,
    "slideshow": {
     "slide_type": "notes"
    },
    "tags": []
   },
   "outputs": [],
   "source": [
    "x0 = 2.3\n",
    "func1 = lambda x : x**2 - 2\n",
    "func2 = lambda x : 1 + 2/x\n",
    "\n",
    "xfixed = np.linspace(0.6, 5, 256)\n",
    "\n",
    "# Make a bokeh \"app\" for interactive plotting    \n",
    "def fixed_app(doc):\n",
    "    global fixed_func\n",
    "    \n",
    "    def text_label(a, b):\n",
    "        return f'a={a:8.4e} b={b:8.4e}  m={a + (b-a)/2.:8.4e}'\n",
    "\n",
    "    fig = figure(title=\"fixed point\", width=800, height=500,\n",
    "                 background_fill_color='white',\n",
    "                 active_drag='box_zoom')\n",
    "    \n",
    "    fig.xaxis.axis_label = 'x'\n",
    "    fig.yaxis.axis_label = 'y'\n",
    "    fig.xaxis.axis_label_text_font_style = \"normal\"\n",
    "    fig.yaxis.axis_label_text_font_style = \"normal\"\n",
    "\n",
    "    fig.x_range = Range1d(0.6, 3.4)\n",
    "    fig.y_range = fig.x_range\n",
    "    \n",
    "    func1_line = fig.line(x=xfixed, y=func1(xfixed), color='red',\n",
    "                         legend_label='func1',\n",
    "                         alpha=0.3, line_width=4)\n",
    "    func2_line = fig.line(x=xfixed, y=func2(xfixed), color='green',\n",
    "                         legend_label='func2',\n",
    "                         alpha=0.3, line_width=4)\n",
    "    \n",
    "    yx_line = fig.line(x=x, y=x, color='gray', legend_label = 'y = x',\n",
    "                       alpha=0.5, line_width=2, line_dash='dotted')\n",
    "    \n",
    "    iter1_line = fig.line(x=[0], y=[0], color='red', alpha=0.8, line_width=2)\n",
    "    iter2_line = fig.line(x=[0], y=[0], color='green', alpha=0.8, line_width=2)\n",
    "\n",
    "    ITEM_HEIGHT = 64\n",
    "    text_x0 = TextInput(title='x0', value=f'{x0:.2f}', width=70, height=ITEM_HEIGHT)\n",
    "\n",
    "    nsteps = Slider(start=0, end=20, value=0, step=1, \n",
    "                    title='n_steps', sizing_mode=\"fixed\", width=200, height=ITEM_HEIGHT)\n",
    "    \n",
    "    def update_steps():\n",
    "        \"\"\"\n",
    "        Perform n steps of the bisection algorithm and then plot the results\n",
    "        \"\"\"\n",
    "        n_step = nsteps.value\n",
    "        x0i = float(text_x0.value)\n",
    "        xk, xt, yt = fixed_point_trace(func1, x0i, n_steps=n_step)\n",
    "        iter1_line.data_source.data = {'x': xt, 'y': yt}\n",
    "        xk, xt, yt = fixed_point_trace(func2, x0i, n_steps=n_step)\n",
    "        iter2_line.data_source.data = {'x': xt, 'y': yt}\n",
    "\n",
    "    update_steps()\n",
    "    \n",
    "    nsteps.on_change('value', lambda attr, old, new: update_steps())\n",
    "    text_x0.on_change('value', lambda attr, old, new: update_steps())\n",
    "    \n",
    "    sliders = row(nsteps)\n",
    "    p = layout([[text_x0, sliders],\n",
    "                [fig]])\n",
    "\n",
    "    doc.add_root(p)\n",
    "    \n",
    "    doc.theme = Theme(json=yaml.load(\"\"\"\n",
    "        attrs:\n",
    "            figure:\n",
    "                background_fill_color: \"#DDDDDD\"\n",
    "                outline_line_color: white\n",
    "                toolbar_location: above\n",
    "                height: 600\n",
    "                width: 900\n",
    "            Grid:\n",
    "                grid_line_dash: [2, 2]\n",
    "                grid_line_color: lightgray\n",
    "    \"\"\", Loader=yaml.FullLoader))\n"
   ]
  },
  {
   "cell_type": "code",
   "execution_count": 71,
   "id": "5cd022ab-fdee-41a7-a04c-f541a4acdcba",
   "metadata": {
    "editable": true,
    "scrolled": true,
    "slideshow": {
     "slide_type": "subslide"
    },
    "tags": []
   },
   "outputs": [
    {
     "data": {
      "application/vnd.bokehjs_exec.v0+json": "",
      "text/html": [
       "<script id=\"a2717b6a-d3e5-460c-ae90-be1767ede298\">\n",
       "  (function() {\n",
       "    const xhr = new XMLHttpRequest()\n",
       "    xhr.responseType = 'blob';\n",
       "    xhr.open('GET', \"http://localhost:51501/autoload.js?bokeh-autoload-element=a2717b6a-d3e5-460c-ae90-be1767ede298&bokeh-absolute-url=http://localhost:51501&resources=none\", true);\n",
       "    xhr.withCredentials = false;\n",
       "    xhr.onload = function (event) {\n",
       "      const script = document.createElement('script');\n",
       "      const src = URL.createObjectURL(event.target.response);\n",
       "      script.src = src;\n",
       "      document.body.appendChild(script);\n",
       "    };\n",
       "    xhr.send();\n",
       "  })();\n",
       "</script>"
      ]
     },
     "metadata": {
      "application/vnd.bokehjs_exec.v0+json": {
       "server_id": "dfbe13fd9d4c454d92ced586733bf20f"
      }
     },
     "output_type": "display_data"
    }
   ],
   "source": [
    "func1 = lambda x : x**2/3 - (2**2/3 - 2) # two fixed points at x=1,2 g'(x) ~ 2/3, 4/3\n",
    "func2 = lambda x : 1 + 2/x               # g'(2) = -1/2\n",
    "\n",
    "show(fixed_app, **show_kws) # try x0=1.5"
   ]
  },
  {
   "cell_type": "code",
   "execution_count": 54,
   "id": "07376624-4bde-4c98-b393-a7c3614b624c",
   "metadata": {
    "editable": true,
    "slideshow": {
     "slide_type": ""
    },
    "tags": []
   },
   "outputs": [
    {
     "data": {
      "application/vnd.bokehjs_exec.v0+json": "",
      "text/html": [
       "<script id=\"cb994009-537d-4ca2-b838-d40a2921ef59\">\n",
       "  (function() {\n",
       "    const xhr = new XMLHttpRequest()\n",
       "    xhr.responseType = 'blob';\n",
       "    xhr.open('GET', \"http://localhost:51480/autoload.js?bokeh-autoload-element=cb994009-537d-4ca2-b838-d40a2921ef59&bokeh-absolute-url=http://localhost:51480&resources=none\", true);\n",
       "    xhr.withCredentials = false;\n",
       "    xhr.onload = function (event) {\n",
       "      const script = document.createElement('script');\n",
       "      const src = URL.createObjectURL(event.target.response);\n",
       "      script.src = src;\n",
       "      document.body.appendChild(script);\n",
       "    };\n",
       "    xhr.send();\n",
       "  })();\n",
       "</script>"
      ]
     },
     "metadata": {
      "application/vnd.bokehjs_exec.v0+json": {
       "server_id": "1c0a12a22375444fa8b1adc368d13559"
      }
     },
     "output_type": "display_data"
    }
   ],
   "source": [
    "func1 = lambda x : (x-2)**2+2 # g'(2) = 0 - converges very rapidly\n",
    "func2 = lambda x : 1 + 2/x    # g'(2) = -1/2\n",
    "\n",
    "show(fixed_app, **show_kws) # try x0=1.5"
   ]
  },
  {
   "cell_type": "markdown",
   "id": "16f0e041-3f9a-4a08-b889-2b018255dcfb",
   "metadata": {
    "editable": true,
    "slideshow": {
     "slide_type": "slide"
    },
    "tags": []
   },
   "source": [
    "# The `secant` algorithm\n",
    "\n",
    "If analytical derivative isn't available, use $x$ and $f(x)$ to approximate it.\n",
    "\n",
    "$x_{k+1} = x_k - f(x_k) (x_k - x_{k-1}) / (f(x_k) - f(x_{k-1}))$\n",
    "\n",
    "**Convergence** is superlinear with $r \\approx 1.618$.\n",
    "\n",
    "<!-- Equivalently, to be a bit safer numerically if magnitudes of the components are very different:\n",
    "\n",
    "$x_{k+1} = (~x_{k-1} f(x_k) - x_k f(x_{k-1})~)~/~(~f(x_k) - f(x_{k-1})~)$\n",
    " -->\n",
    " \n",
    "<!-- xk - fk (xk - x1) / (fk - f1)\n",
    "[ xk (fk - f1) - fk ( xk - x1 ) ] / (fk - f1)\n",
    "[ xk fk - xk f1 - fk xk + fk x1 ] / (fk - f1) \n",
    "[ - (xk f1 + fk x1) / (fk - f1) -->"
   ]
  },
  {
   "cell_type": "code",
   "execution_count": 27,
   "id": "62d3ab74-e460-487d-b4e7-2062ee661dbc",
   "metadata": {
    "editable": true,
    "slideshow": {
     "slide_type": "subslide"
    },
    "tags": []
   },
   "outputs": [],
   "source": [
    "def secant_root(func, x0, x1, n_steps=2, tol=1e-30):\n",
    "    \"\"\"\n",
    "    Do iterations of the secant method to find roots of `func`\n",
    "    \"\"\"\n",
    "\n",
    "    xk = x1\n",
    "    fk = func(xk)\n",
    "\n",
    "    xkm = x0\n",
    "    fkm = func(xkm)\n",
    "\n",
    "    i = 0\n",
    "    for i in range(n_steps):    \n",
    "        # Optional test if change is already smaller than some specified tolerance\n",
    "        dx = fk*(xk-xkm)/(fk-fkm)\n",
    "        if tol is not None:\n",
    "            if np.abs(dx) < tol:\n",
    "                break\n",
    "            \n",
    "        xk1 = xk - dx\n",
    "\n",
    "        # use previous function evaluation as k-1\n",
    "        fkm = fk\n",
    "        xkm = xk\n",
    "\n",
    "        # Updated xk, fk > x_k+1, f(x_k+1)\n",
    "        xk = xk1\n",
    "        fk = func(xk1)        \n",
    "        \n",
    "    return xk, xkm, fk, fkm, i+1"
   ]
  },
  {
   "cell_type": "code",
   "execution_count": 28,
   "id": "d0a55b2b-e4de-4066-a76d-46ad8580f025",
   "metadata": {
    "editable": true,
    "slideshow": {
     "slide_type": "fragment"
    },
    "tags": []
   },
   "outputs": [
    {
     "name": "stdout",
     "output_type": "stream",
     "text": [
      "secant: xk = 4.3885e-04 after 4 steps\n"
     ]
    }
   ],
   "source": [
    "xk, xkm, fk, fkm, i = secant_root(myfunc, a0, b0, n_steps=4)\n",
    "print(f'secant: xk = {xk:.4e} after {i} steps')"
   ]
  },
  {
   "cell_type": "code",
   "execution_count": 29,
   "id": "282d500e-e6cf-4f16-b1c5-2922dc264a4b",
   "metadata": {
    "editable": true,
    "slideshow": {
     "slide_type": "notes"
    },
    "tags": []
   },
   "outputs": [],
   "source": [
    "def secant_app(doc):\n",
    "    global myfunc\n",
    "    \n",
    "    def text_label(xk, xkm, fk, fkm):\n",
    "        xp1 = xk - fk*(xk-xkm)/(fk-fkm)\n",
    "        return f'x(k-1, k) = {xkm:7.4f}, {xk:7.4f} <br> -> x(k+1) = {xp1:9.4e}'\n",
    "\n",
    "    fig = figure(title=\"secant method\", width=800, height=500,\n",
    "                 background_fill_color='white',\n",
    "                 active_drag='box_zoom')\n",
    "    \n",
    "    fig.xaxis.axis_label = 'x'\n",
    "    fig.yaxis.axis_label = 'y'\n",
    "    fig.xaxis.axis_label_text_font_style = \"normal\"\n",
    "    fig.yaxis.axis_label_text_font_style = \"normal\"\n",
    "\n",
    "    ITEM_HEIGHT = 64\n",
    "\n",
    "    text_x0 = TextInput(title='x0', value=f'{a0:.2f}', width=70, height=ITEM_HEIGHT)\n",
    "    text_x1 = TextInput(title='x1', value=f'{b0:.2f}', width=70, height=ITEM_HEIGHT)\n",
    "\n",
    "    data_line = fig.line(x=x, y=myfunc(x), color='black', alpha=0.5, line_width=2, legend_label='f(x)')\n",
    "    initial_scatter = fig.scatter(np.array([a0, b0]), myfunc(np.array([a0, b0])), size=10, color='black')\n",
    "\n",
    "    yroot = fig.hspan(y=[0], line_color='green', line_alpha=0.3)\n",
    "\n",
    "    secant_scatter = fig.scatter([0,0], [0,0], size=10, color='red', legend_label='x(k), x(k-1)')\n",
    "    secant_line = fig.line(x=[0,0], y=[0,0], color='red', alpha=1.0, line_width=2, legend_label='secant')\n",
    "\n",
    "    xk_scatter = fig.scatter([0], [0], size=10, color='magenta', marker='+', legend_label='x(k+1)')\n",
    "    xk_line = fig.line([0, 0], [0, 0], color='magenta', alpha=0.8)\n",
    "\n",
    "    txt = Div(text=\" \", sizing_mode=\"fixed\", width=450, height=ITEM_HEIGHT,\n",
    "              styles={'font-size': '110%', 'font-family': 'monospace'})\n",
    "    \n",
    "    nsteps = Slider(start=0, end=20, value=0, step=1, \n",
    "                    title='n_steps', sizing_mode=\"fixed\", width=200, height=ITEM_HEIGHT)\n",
    "    \n",
    "    def update_steps():\n",
    "        \"\"\"\n",
    "        Perform n steps of the bisection algorithm and then plot the results\n",
    "        \"\"\"\n",
    "        n_step = nsteps.value\n",
    "        x0i = float(text_x0.value)\n",
    "        x1i = float(text_x1.value)\n",
    "\n",
    "        initial_scatter.data_source.data = {'x': [x0i, x1i], 'y': myfunc([x0i, x1i])}\n",
    "\n",
    "        xk, xkm, fk, fkm, i = secant_root(myfunc, x0i, x1i, n_steps=n_step, tol=None)\n",
    "        secant_line.data_source.data = {'x': [xk, xkm], 'y':[fk, fkm]}\n",
    "        secant_scatter.data_source.data = {'x': [xk, xkm], 'y': [fk, fkm]}\n",
    "\n",
    "        # next k+1\n",
    "        xp1 = xk - fk*(xk-xkm)/(fk-fkm)\n",
    "        xk_scatter.data_source.data = {'x': [xp1], 'y': [0]}\n",
    "        xk_line.data_source.data = {'x': [xk, xkm, xp1], 'y': [fk, fkm, 0]}\n",
    "\n",
    "        txt.text = text_label(xk, xkm, fk, fkm)\n",
    "\n",
    "    update_steps()\n",
    "    \n",
    "    nsteps.on_change('value', lambda attr, old, new: update_steps())\n",
    "    text_x0.on_change('value', lambda attr, old, new: update_steps())\n",
    "    text_x1.on_change('value', lambda attr, old, new: update_steps())\n",
    "\n",
    "    sliders = row(nsteps)\n",
    "    p = layout([[text_x0, text_x1, sliders, txt],\n",
    "                [fig]])\n",
    "\n",
    "    doc.add_root(p)\n",
    "    \n",
    "    doc.theme = Theme(json=yaml.load(\"\"\"\n",
    "        attrs:\n",
    "            figure:\n",
    "                background_fill_color: \"#DDDDDD\"\n",
    "                outline_line_color: white\n",
    "                toolbar_location: above\n",
    "                height: 600\n",
    "                width: 900\n",
    "            Grid:\n",
    "                grid_line_dash: [2, 2]\n",
    "                grid_line_color: lightgray\n",
    "    \"\"\", Loader=yaml.FullLoader))"
   ]
  },
  {
   "cell_type": "code",
   "execution_count": 30,
   "id": "d420cc88-2423-43ac-97e1-a06111ecd86f",
   "metadata": {
    "editable": true,
    "slideshow": {
     "slide_type": "subslide"
    },
    "tags": []
   },
   "outputs": [
    {
     "data": {
      "application/vnd.bokehjs_exec.v0+json": "",
      "text/html": [
       "<script id=\"f9d88a71-0031-44bc-a1d9-ba41ddc418ec\">\n",
       "  (function() {\n",
       "    const xhr = new XMLHttpRequest()\n",
       "    xhr.responseType = 'blob';\n",
       "    xhr.open('GET', \"http://localhost:51066/autoload.js?bokeh-autoload-element=f9d88a71-0031-44bc-a1d9-ba41ddc418ec&bokeh-absolute-url=http://localhost:51066&resources=none\", true);\n",
       "    xhr.withCredentials = false;\n",
       "    xhr.onload = function (event) {\n",
       "      const script = document.createElement('script');\n",
       "      const src = URL.createObjectURL(event.target.response);\n",
       "      script.src = src;\n",
       "      document.body.appendChild(script);\n",
       "    };\n",
       "    xhr.send();\n",
       "  })();\n",
       "</script>"
      ]
     },
     "metadata": {
      "application/vnd.bokehjs_exec.v0+json": {
       "server_id": "05e33cef5e6c4cd8a50cac991b5f087c"
      }
     },
     "output_type": "display_data"
    }
   ],
   "source": [
    "myfunc = orig_func; myfunc_deriv = orig_deriv\n",
    "show(secant_app,  notebook_handle=True, notebook_url='localhost:8889')"
   ]
  },
  {
   "cell_type": "markdown",
   "id": "42552668-f059-45bb-8bf2-8214887c2912",
   "metadata": {
    "editable": true,
    "slideshow": {
     "slide_type": "slide"
    },
    "tags": []
   },
   "source": [
    "# `newton_raphson` method\n",
    "\n",
    "Appromate $f(x)$ with a *linear* function $f(x + h) \\approx f(x) + f^\\prime(x)~h$.  This has a zero at $h=-f(x)/f^\\prime(x)$.\n",
    "\n",
    "So use a fixed-point scheme with \n",
    "\n",
    "$f(x) = 0 \\rightarrow g(x) = x - f(x)/f^\\prime(x)$. \n",
    "\n",
    "This function does not have the same exact fixed point as the root of $f(x)$, but the two converge with subsequent iterations as $x_k \\rightarrow x^*$ with \n",
    "\n",
    "$g(x_k) = x_k - f(x_k \\rightarrow x^*) / f^\\prime(x_k) = x_k - 0/f^\\prime(x_k) = x_k $.\n",
    "\n",
    "<!-- **[There was a typo in class where I wrote the step update in the first definition of $g(x)$ as $-f^\\prime(x)/f(x)$, it's fixed now]**\n",
    " -->\n",
    " \n",
    "Uses function evaluations *and* analytical derivative\n",
    "\n",
    "$x_{k+1} = x_k - f(x_k) / f^\\prime(x_k)$\n"
   ]
  },
  {
   "cell_type": "markdown",
   "id": "651041b6-2251-4dea-936b-058609d5622b",
   "metadata": {
    "editable": true,
    "slideshow": {
     "slide_type": "subslide"
    },
    "tags": []
   },
   "source": [
    "# `newton_raphson` method\n",
    "\n",
    "**Convergence** is quadratic ($r=2$) for simple roots but linear for multiple roots with $C=1-(1/m)$.  For $m > 2$, $ 0.5 < C < 1$ and this becomes slower than the bisector method with $C=0.5$!"
   ]
  },
  {
   "cell_type": "code",
   "execution_count": 72,
   "id": "aa06b562-591b-4eb9-9ae7-d76f82235926",
   "metadata": {
    "editable": true,
    "slideshow": {
     "slide_type": "subslide"
    },
    "tags": []
   },
   "outputs": [],
   "source": [
    "def newton_root(func, func_deriv, x0, n_steps=3, tol=1.e-20):\n",
    "    \"\"\"\n",
    "    Newton(-Raphson) iteration for root-finding\n",
    "    \"\"\"\n",
    "    xk = x0\n",
    "    xkm = xk\n",
    "\n",
    "    if n_steps == 0:\n",
    "        # calculate function and deriv to have something to return if n=0\n",
    "        fk = func(xk)\n",
    "        dfk = func_deriv(xk)\n",
    "        xk = xk - fk/dfk\n",
    "\n",
    "        i = 0\n",
    "        \n",
    "    for i in range(n_steps):        \n",
    "        # Save x(k-1)\n",
    "        xkm = xk\n",
    "\n",
    "        # Update \n",
    "        fk = func(xk)\n",
    "        dfk = func_deriv(xk)\n",
    "        h = fk/dfk\n",
    "        if tol is not None:\n",
    "            if np.abs(h) < tol:\n",
    "                break\n",
    "            \n",
    "        xk = xk - fk/dfk\n",
    "\n",
    "    return xkm, xk, fk, dfk, i+1"
   ]
  },
  {
   "cell_type": "code",
   "execution_count": 73,
   "id": "8a2a102f-f565-4ea0-b536-cd85236cc19e",
   "metadata": {
    "editable": true,
    "slideshow": {
     "slide_type": "fragment"
    },
    "tags": []
   },
   "outputs": [
    {
     "name": "stdout",
     "output_type": "stream",
     "text": [
      "Newton: xk = 1.9358e+00 after 3 steps\n"
     ]
    }
   ],
   "source": [
    "xkm, xk, _, _, i = newton_root(myfunc, myfunc_deriv, a0, n_steps=3)\n",
    "print(f'Newton: xk = {xk:.4e} after {i} steps')"
   ]
  },
  {
   "cell_type": "code",
   "execution_count": 74,
   "id": "f74a930d-ea82-4570-b6db-5b844c97ab12",
   "metadata": {
    "editable": true,
    "slideshow": {
     "slide_type": "notes"
    },
    "tags": []
   },
   "outputs": [],
   "source": [
    "def newton_app(doc):\n",
    "\n",
    "    global myfunc, myfunc_deriv\n",
    "    \n",
    "    def text_label(xk, xkm):\n",
    "        return f'x(k) {xkm:9.4e} -> x(k+1) = {xk:9.4e}'\n",
    "    \n",
    "    fig = figure(title=\"newton method\", width=800, height=500,\n",
    "                 background_fill_color='white',\n",
    "                 active_drag='box_zoom')\n",
    "    \n",
    "    fig.xaxis.axis_label = 'x'\n",
    "    fig.yaxis.axis_label = 'y'\n",
    "    fig.xaxis.axis_label_text_font_style = \"normal\"\n",
    "    fig.yaxis.axis_label_text_font_style = \"normal\"\n",
    "\n",
    "    ITEM_HEIGHT = 64\n",
    "\n",
    "    text_x0 = TextInput(title='x0', value=f'{a0:.2f}', width=70, height=ITEM_HEIGHT)\n",
    "\n",
    "    data_line = fig.line(x=x, y=myfunc(x), color='black', alpha=0.5, line_width=2, legend_label='f(x)')\n",
    "    initial_scatter = fig.scatter(np.array([a0]), myfunc(np.array([a0])), size=10, color='black')\n",
    "\n",
    "    yroot = fig.hspan(y=[0], line_color='green', line_alpha=0.3)\n",
    "\n",
    "    xk_scatter = fig.scatter([0], [0], size=10, color='magenta', marker='o', legend_label='x(k)')\n",
    "    xk_line = fig.line([0, 0], [0, 0], color='magenta', alpha=0.8)\n",
    "    xk1_scatter = fig.scatter([0], [0], size=10, color='magenta', marker='x', legend_label='x(k+1)')\n",
    "\n",
    "    txt = Div(text=\" \", sizing_mode=\"fixed\", width=500, height=ITEM_HEIGHT,\n",
    "              styles={'font-size': '110%', 'font-family': 'monospace'})\n",
    "    \n",
    "    nsteps = Slider(start=0, end=20, value=0, step=1, \n",
    "                    title='n_steps, k=', sizing_mode=\"fixed\", width=200, height=ITEM_HEIGHT)\n",
    "    \n",
    "    def update_steps():\n",
    "        \"\"\"\n",
    "        Perform n steps of the bisection algorithm and then plot the results\n",
    "        \"\"\"\n",
    "        n_step = nsteps.value + 1\n",
    "        x0i = float(text_x0.value)\n",
    "\n",
    "        initial_scatter.data_source.data = {'x': [x0i], 'y': myfunc([x0i])}\n",
    "\n",
    "        xkm, xk, fk, dfk, i = newton_root(myfunc, myfunc_deriv, x0i, n_steps=n_step)\n",
    "\n",
    "        # next k+1\n",
    "        xp1 = xk - fk*(xk-xkm)/(fk-fkm)\n",
    "        xk_scatter.data_source.data = {'x': [xkm], 'y': [fk]}\n",
    "        xk1_scatter.data_source.data = {'x': [xk], 'y': [myfunc(xk)]}\n",
    "        xk_line.data_source.data = {'x': [xkm, xk], 'y': [fk, 0]}\n",
    "\n",
    "        txt.text = text_label(xk, xkm)\n",
    "\n",
    "    update_steps()\n",
    "    \n",
    "    nsteps.on_change('value', lambda attr, old, new: update_steps())\n",
    "    text_x0.on_change('value', lambda attr, old, new: update_steps())\n",
    "\n",
    "    sliders = row(nsteps)\n",
    "    p = layout([[text_x0, sliders, txt],\n",
    "                [fig]])\n",
    "\n",
    "    doc.add_root(p)\n",
    "    \n",
    "    doc.theme = Theme(json=yaml.load(\"\"\"\n",
    "        attrs:\n",
    "            figure:\n",
    "                background_fill_color: \"#DDDDDD\"\n",
    "                outline_line_color: white\n",
    "                toolbar_location: above\n",
    "                height: 600\n",
    "                width: 900\n",
    "            Grid:\n",
    "                grid_line_dash: [2, 2]\n",
    "                grid_line_color: lightgray\n",
    "    \"\"\", Loader=yaml.FullLoader))\n"
   ]
  },
  {
   "cell_type": "code",
   "execution_count": 80,
   "id": "4c3ef34b-a918-491f-ab03-466897da98b2",
   "metadata": {
    "editable": true,
    "slideshow": {
     "slide_type": "subslide"
    },
    "tags": []
   },
   "outputs": [
    {
     "data": {
      "application/vnd.bokehjs_exec.v0+json": "",
      "text/html": [
       "<script id=\"b983cc93-5445-4a90-837d-d024df53b0ff\">\n",
       "  (function() {\n",
       "    const xhr = new XMLHttpRequest()\n",
       "    xhr.responseType = 'blob';\n",
       "    xhr.open('GET', \"http://localhost:51810/autoload.js?bokeh-autoload-element=b983cc93-5445-4a90-837d-d024df53b0ff&bokeh-absolute-url=http://localhost:51810&resources=none\", true);\n",
       "    xhr.withCredentials = false;\n",
       "    xhr.onload = function (event) {\n",
       "      const script = document.createElement('script');\n",
       "      const src = URL.createObjectURL(event.target.response);\n",
       "      script.src = src;\n",
       "      document.body.appendChild(script);\n",
       "    };\n",
       "    xhr.send();\n",
       "  })();\n",
       "</script>"
      ]
     },
     "metadata": {
      "application/vnd.bokehjs_exec.v0+json": {
       "server_id": "aee5f822d0a74527ba806c4fc61f29ef"
      }
     },
     "output_type": "display_data"
    }
   ],
   "source": [
    "# Newton algorithm\n",
    "# also try x0 = -1.6, -1.7, -1.8078324\n",
    "show(newton_app, notebook_handle=True, notebook_url='localhost:8889')"
   ]
  },
  {
   "cell_type": "code",
   "execution_count": 77,
   "id": "22e35ec8-df5a-4de7-9d15-45ad680d73e6",
   "metadata": {
    "editable": true,
    "slideshow": {
     "slide_type": ""
    },
    "tags": []
   },
   "outputs": [
    {
     "data": {
      "application/vnd.bokehjs_exec.v0+json": "",
      "text/html": [
       "<script id=\"f0a5aaa6-89ee-49b9-a7ab-a7686aff5902\">\n",
       "  (function() {\n",
       "    const xhr = new XMLHttpRequest()\n",
       "    xhr.responseType = 'blob';\n",
       "    xhr.open('GET', \"http://localhost:51616/autoload.js?bokeh-autoload-element=f0a5aaa6-89ee-49b9-a7ab-a7686aff5902&bokeh-absolute-url=http://localhost:51616&resources=none\", true);\n",
       "    xhr.withCredentials = false;\n",
       "    xhr.onload = function (event) {\n",
       "      const script = document.createElement('script');\n",
       "      const src = URL.createObjectURL(event.target.response);\n",
       "      script.src = src;\n",
       "      document.body.appendChild(script);\n",
       "    };\n",
       "    xhr.send();\n",
       "  })();\n",
       "</script>"
      ]
     },
     "metadata": {
      "application/vnd.bokehjs_exec.v0+json": {
       "server_id": "fcc75b33bc264e47ba358cbf0de8b5b9"
      }
     },
     "output_type": "display_data"
    }
   ],
   "source": [
    "myfunc = orig_func; myfunc_deriv = orig_deriv\n",
    "show(secant_app,  notebook_handle=True, notebook_url='localhost:8889')"
   ]
  },
  {
   "cell_type": "markdown",
   "id": "7cc5db6d-e469-4578-a2ae-30b0d191884f",
   "metadata": {
    "editable": true,
    "slideshow": {
     "slide_type": "slide"
    },
    "tags": []
   },
   "source": [
    "# `inverse_quadratic` algorithm\n",
    "\n",
    "Approximate $x = f(x)$ as a parabola.\n",
    "\n",
    "Fit inverse parabolas to three function samples $f(x)$ at $x = (a, b, c)$.\n",
    "\n",
    "No analytic derivative needed.\n",
    "\n",
    "**Convergence** is superlinear $r \\approx 1.839$.\n",
    "\n",
    "The \"Brent\" ([scipy.optimize.brent](https://docs.scipy.org/doc/scipy/reference/generated/scipy.optimize.brent.html)) algorithm is a combination of the safe-but-linear `bisection` algorithm and the superlinear `inverse_quadratic` algorithm.\n",
    "  - Check the inverse quadratic step is within the bracket, use `bisection` if not."
   ]
  },
  {
   "cell_type": "code",
   "execution_count": 36,
   "id": "b9713214-0457-4ae5-9e28-e26a3db0b415",
   "metadata": {
    "editable": true,
    "slideshow": {
     "slide_type": "subslide"
    },
    "tags": []
   },
   "outputs": [],
   "source": [
    "def inverse_quad_root(func, a, c, n_steps=10, tol=1.e-20):\n",
    "    \"\"\"\n",
    "    Inverse quadratic root finder\n",
    "\n",
    "    Third initial point `b` is midpoint of a, c\n",
    "\n",
    "    Returns\n",
    "    -------\n",
    "    b : float\n",
    "        New best guess of a root\n",
    "\n",
    "    fit_i : (list, list)\n",
    "        List (x, fx) that were used for last parabola fit\n",
    "    \n",
    "    \"\"\"\n",
    "    # Initial b is just the midpoint\n",
    "    b = (a + (c-a)/2)\n",
    "    \n",
    "    fa = func(a)\n",
    "    fb = func(b)\n",
    "    fc = func(c)\n",
    "    \n",
    "    if n_steps == 0:\n",
    "        i, fit_i = 0, ([a, b, c], [fa, fb, fc])\n",
    "    \n",
    "    for i in range(n_steps):\n",
    "        u = fb/fc\n",
    "        v = fb/fa\n",
    "        w = fa/fc\n",
    "        p = v*(w*(u-w)*(c-b)-(1-u)*(b-a))\n",
    "        q = (w-1)*(u-1)*(v-1) # This can underflow!\n",
    "        if q == 0:\n",
    "            break\n",
    "        \n",
    "        # Don't need this for the algorithm but used for plotting the fit parabola\n",
    "        fit_i = ([a, b, c], [fa, fb, fc])\n",
    "\n",
    "        h = p/q\n",
    "        if (np.abs(h) < tol):\n",
    "            break\n",
    "\n",
    "        bnext = b + h \n",
    "        c, fc = a, fa\n",
    "        a, fa = b, fb\n",
    "        b, fb = bnext, func(bnext)\n",
    "        \n",
    "    return b, fit_i, i+1   "
   ]
  },
  {
   "cell_type": "code",
   "execution_count": 37,
   "id": "90f38fce-5b99-479d-b83a-2c76f56ee312",
   "metadata": {
    "editable": true,
    "slideshow": {
     "slide_type": "notes"
    },
    "tags": []
   },
   "outputs": [],
   "source": [
    "def inverse_quad_app(doc):\n",
    "\n",
    "    global myfunc, myfunc_deriv\n",
    "    \n",
    "    def text_label(xk, xkm):\n",
    "        return f'x(k) {xkm:9.4e} -> x(k+1) = {xk:9.4e}'\n",
    "    \n",
    "    fig = figure(title=\"inverse quadratic root\", width=800, height=500,\n",
    "                 background_fill_color='white',\n",
    "                 active_drag='box_zoom')\n",
    "    \n",
    "    fig.xaxis.axis_label = 'x'\n",
    "    fig.yaxis.axis_label = 'y'\n",
    "    fig.xaxis.axis_label_text_font_style = \"normal\"\n",
    "    fig.yaxis.axis_label_text_font_style = \"normal\"\n",
    "\n",
    "    ITEM_HEIGHT = 64\n",
    "\n",
    "    text_a = TextInput(title='a', value=f'{a0:.2f}', width=70, height=ITEM_HEIGHT)\n",
    "    text_c = TextInput(title='c', value=f'{b0:.2f}', width=70, height=ITEM_HEIGHT)\n",
    "\n",
    "    data_line = fig.line(x=x, y=myfunc(x), color='black', alpha=0.5, line_width=2, legend_label='f(x)')\n",
    "\n",
    "    yroot = fig.hspan(y=[0], line_color='green', line_alpha=0.3)\n",
    "\n",
    "    abc_scatter = fig.scatter([0], [0], size=10, color='magenta', marker='o', alpha=0.5, legend_label='a,b,c')\n",
    "    abc_fit = fig.line([0, 0], [0, 0], color='magenta', alpha=0.8, legend_label='y = p(x)')\n",
    "    b_scatter = fig.scatter([0], [0], size=10, color='magenta', marker='x', legend_label='b(k+1)')\n",
    "\n",
    "    txt = Div(text=\" \", sizing_mode=\"fixed\", width=450, height=ITEM_HEIGHT,\n",
    "              styles={'font-size': '110%', 'font-family': 'monospace'})\n",
    "    \n",
    "    nsteps = Slider(start=0, end=20, value=0, step=1, \n",
    "                    title='n_steps, k=', sizing_mode=\"fixed\", width=200, height=ITEM_HEIGHT)\n",
    "    \n",
    "    def update_steps():\n",
    "        \"\"\"\n",
    "        Perform n steps of the bisection algorithm and then plot the results\n",
    "        \"\"\"\n",
    "        n_step = nsteps.value + 1\n",
    "        a0i = float(text_a.value)\n",
    "        c0i = float(text_c.value)\n",
    "\n",
    "        xk, (xi, yi), i = inverse_quad_root(myfunc, a0i, c0i, n_steps=n_step)\n",
    "        abc_scatter.data_source.data = {'x': xi, 'y': yi}\n",
    "        b_scatter.data_source.data = {'x': [xk], 'y': [0]}\n",
    "\n",
    "        if (np.max(yi) - np.min(yi)) > 1.e-6:\n",
    "            _c = np.polyfit(yi, xi, 2)\n",
    "            yfit = np.linspace(np.min(yi), np.max(yi))\n",
    "            xfit = np.polyval(_c, yfit)\n",
    "            abc_fit.data_source.data = {'x': xfit, 'y': yfit}\n",
    "\n",
    "        txt.text = text_label(xk, xi[1])\n",
    "\n",
    "    update_steps()\n",
    "    \n",
    "    nsteps.on_change('value', lambda attr, old, new: update_steps())\n",
    "    text_a.on_change('value', lambda attr, old, new: update_steps())\n",
    "    text_c.on_change('value', lambda attr, old, new: update_steps())\n",
    "\n",
    "    sliders = row(nsteps)\n",
    "    p = layout([[text_a, text_c, sliders, txt],\n",
    "                [fig]])\n",
    "\n",
    "    doc.add_root(p)\n",
    "    \n",
    "    doc.theme = Theme(json=yaml.load(\"\"\"\n",
    "        attrs:\n",
    "            figure:\n",
    "                background_fill_color: \"#DDDDDD\"\n",
    "                outline_line_color: white\n",
    "                toolbar_location: above\n",
    "                height: 600\n",
    "                width: 900\n",
    "            Grid:\n",
    "                grid_line_dash: [2, 2]\n",
    "                grid_line_color: lightgray\n",
    "    \"\"\", Loader=yaml.FullLoader))\n"
   ]
  },
  {
   "cell_type": "code",
   "execution_count": 78,
   "id": "afb922f2-d2d6-487a-8db3-d3d85c490174",
   "metadata": {
    "editable": true,
    "slideshow": {
     "slide_type": "subslide"
    },
    "tags": []
   },
   "outputs": [
    {
     "data": {
      "application/vnd.bokehjs_exec.v0+json": "",
      "text/html": [
       "<script id=\"e26254c9-c608-4631-91d8-2227dfacce9f\">\n",
       "  (function() {\n",
       "    const xhr = new XMLHttpRequest()\n",
       "    xhr.responseType = 'blob';\n",
       "    xhr.open('GET', \"http://localhost:51767/autoload.js?bokeh-autoload-element=e26254c9-c608-4631-91d8-2227dfacce9f&bokeh-absolute-url=http://localhost:51767&resources=none\", true);\n",
       "    xhr.withCredentials = false;\n",
       "    xhr.onload = function (event) {\n",
       "      const script = document.createElement('script');\n",
       "      const src = URL.createObjectURL(event.target.response);\n",
       "      script.src = src;\n",
       "      document.body.appendChild(script);\n",
       "    };\n",
       "    xhr.send();\n",
       "  })();\n",
       "</script>"
      ]
     },
     "metadata": {
      "application/vnd.bokehjs_exec.v0+json": {
       "server_id": "f2a444cbbb5f4804b96b0a91fab2a7b3"
      }
     },
     "output_type": "display_data"
    }
   ],
   "source": [
    "# also try a, b = (-1.1, 1.5), (-1.1, 1.68)\n",
    "show(inverse_quad_app, notebook_handle=True, notebook_url='localhost:8889')"
   ]
  },
  {
   "cell_type": "markdown",
   "id": "f52261b6-20bb-4aa5-8a6c-3437eb611928",
   "metadata": {
    "editable": true,
    "slideshow": {
     "slide_type": "slide"
    },
    "tags": []
   },
   "source": [
    "# Other function examples\n",
    "\n",
    "E.g., roots with multiplicity > 1"
   ]
  },
  {
   "cell_type": "code",
   "execution_count": 39,
   "id": "8c888945-51cb-4974-a6c5-ccb3f693e7b6",
   "metadata": {
    "editable": true,
    "slideshow": {
     "slide_type": ""
    },
    "tags": []
   },
   "outputs": [],
   "source": [
    "### Function with multiple roots\n",
    "mult_power = 3\n",
    "\n",
    "def mult_func(x):\n",
    "    global mult_power\n",
    "    return (np.array(x)-1)**mult_power/(4**mult_power)\n",
    "    \n",
    "def mult_deriv(x):\n",
    "    global mult_power\n",
    "    return mult_power*(np.array(x)-1)**(mult_power-1)/(4**mult_power)\n",
    "\n",
    "# unique root but with a saddle with f'(x) = 0\n",
    "def saddle_func(x):\n",
    "    return (np.array(x))**3/(4**3) - 0.2\n",
    "    \n",
    "def saddle_deriv(x):\n",
    "    return 3*(np.array(x))**(3-1)/(4**3)\n"
   ]
  },
  {
   "cell_type": "code",
   "execution_count": 40,
   "id": "29f71a35-0d64-40e5-80d7-36c06bc79ad3",
   "metadata": {
    "editable": true,
    "slideshow": {
     "slide_type": "subslide"
    },
    "tags": []
   },
   "outputs": [
    {
     "data": {
      "image/png": "[encoded data removed]",
      "text/plain": [
       "<Figure size 900x500 with 1 Axes>"
      ]
     },
     "metadata": {},
     "output_type": "display_data"
    }
   ],
   "source": [
    "plot_func(mult_func, mult_deriv, title=r'root multiplicity, $f(x) = f^\\prime(x) = 0$')"
   ]
  },
  {
   "cell_type": "markdown",
   "id": "dc81e0e3-c80c-4080-a9ea-8a38152291cd",
   "metadata": {
    "editable": true,
    "slideshow": {
     "slide_type": "slide"
    },
    "tags": []
   },
   "source": [
    "# Newton convergence for multiple roots\n",
    "\n",
    "(in notebook)"
   ]
  },
  {
   "cell_type": "code",
   "execution_count": 81,
   "id": "4c1b2dc6-06f1-403f-b6ac-665ad67cc5c5",
   "metadata": {
    "editable": true,
    "slideshow": {
     "slide_type": "skip"
    },
    "tags": []
   },
   "outputs": [
    {
     "data": {
      "application/vnd.bokehjs_exec.v0+json": "",
      "text/html": [
       "<script id=\"ea80ec63-5d4f-4604-8633-48aa85b0af33\">\n",
       "  (function() {\n",
       "    const xhr = new XMLHttpRequest()\n",
       "    xhr.responseType = 'blob';\n",
       "    xhr.open('GET', \"http://localhost:51855/autoload.js?bokeh-autoload-element=ea80ec63-5d4f-4604-8633-48aa85b0af33&bokeh-absolute-url=http://localhost:51855&resources=none\", true);\n",
       "    xhr.withCredentials = false;\n",
       "    xhr.onload = function (event) {\n",
       "      const script = document.createElement('script');\n",
       "      const src = URL.createObjectURL(event.target.response);\n",
       "      script.src = src;\n",
       "      document.body.appendChild(script);\n",
       "    };\n",
       "    xhr.send();\n",
       "  })();\n",
       "</script>"
      ]
     },
     "metadata": {
      "application/vnd.bokehjs_exec.v0+json": {
       "server_id": "868d7b72d29741e29f2d5087739d0d71"
      }
     },
     "output_type": "display_data"
    }
   ],
   "source": [
    "# Newton algorithm with new function\n",
    "a0 = -1.1\n",
    "mult_power = 2; myfunc = mult_func; myfunc_deriv = mult_deriv\n",
    "show(newton_app, **show_kws)"
   ]
  },
  {
   "cell_type": "code",
   "execution_count": 82,
   "id": "4420a26c-b141-44c0-99c9-abd82f406443",
   "metadata": {
    "editable": true,
    "slideshow": {
     "slide_type": "skip"
    },
    "tags": []
   },
   "outputs": [
    {
     "data": {
      "application/vnd.bokehjs_exec.v0+json": "",
      "text/html": [
       "<script id=\"de1c213c-2ec5-41bd-83af-ff85ee4b3087\">\n",
       "  (function() {\n",
       "    const xhr = new XMLHttpRequest()\n",
       "    xhr.responseType = 'blob';\n",
       "    xhr.open('GET', \"http://localhost:51861/autoload.js?bokeh-autoload-element=de1c213c-2ec5-41bd-83af-ff85ee4b3087&bokeh-absolute-url=http://localhost:51861&resources=none\", true);\n",
       "    xhr.withCredentials = false;\n",
       "    xhr.onload = function (event) {\n",
       "      const script = document.createElement('script');\n",
       "      const src = URL.createObjectURL(event.target.response);\n",
       "      script.src = src;\n",
       "      document.body.appendChild(script);\n",
       "    };\n",
       "    xhr.send();\n",
       "  })();\n",
       "</script>"
      ]
     },
     "metadata": {
      "application/vnd.bokehjs_exec.v0+json": {
       "server_id": "b45de3981be64b3e9506b15dc4c85aec"
      }
     },
     "output_type": "display_data"
    }
   ],
   "source": [
    "# Newton algorithm with new function\n",
    "mult_power = 3; myfunc = mult_func; myfunc_deriv = mult_deriv\n",
    "show(newton_app, notebook_handle=True)"
   ]
  },
  {
   "cell_type": "code",
   "execution_count": 83,
   "id": "8c8fd71b-449e-44bc-ae93-78fa9c39447b",
   "metadata": {
    "editable": true,
    "slideshow": {
     "slide_type": "skip"
    },
    "tags": []
   },
   "outputs": [
    {
     "data": {
      "application/vnd.bokehjs_exec.v0+json": "",
      "text/html": [
       "<script id=\"fcbb060b-b2da-40fb-bc26-5086c405b41c\">\n",
       "  (function() {\n",
       "    const xhr = new XMLHttpRequest()\n",
       "    xhr.responseType = 'blob';\n",
       "    xhr.open('GET', \"http://localhost:51866/autoload.js?bokeh-autoload-element=fcbb060b-b2da-40fb-bc26-5086c405b41c&bokeh-absolute-url=http://localhost:51866&resources=none\", true);\n",
       "    xhr.withCredentials = false;\n",
       "    xhr.onload = function (event) {\n",
       "      const script = document.createElement('script');\n",
       "      const src = URL.createObjectURL(event.target.response);\n",
       "      script.src = src;\n",
       "      document.body.appendChild(script);\n",
       "    };\n",
       "    xhr.send();\n",
       "  })();\n",
       "</script>"
      ]
     },
     "metadata": {
      "application/vnd.bokehjs_exec.v0+json": {
       "server_id": "9840d26810ae45eda00099cedaace825"
      }
     },
     "output_type": "display_data"
    }
   ],
   "source": [
    "# Compare bisector\n",
    "a0, b0 = -1.1, 2.0\n",
    "mult_power = 3; myfunc = mult_func; myfunc_deriv = mult_deriv\n",
    "show(bisect_app, **show_kws)"
   ]
  },
  {
   "cell_type": "code",
   "execution_count": 84,
   "id": "76d79b73-3c60-4387-b614-552bbc5c3ab7",
   "metadata": {
    "editable": true,
    "slideshow": {
     "slide_type": "skip"
    },
    "tags": []
   },
   "outputs": [
    {
     "data": {
      "application/vnd.bokehjs_exec.v0+json": "",
      "text/html": [
       "<script id=\"ffe6eff9-c1a9-47ca-970b-9930416b4a2f\">\n",
       "  (function() {\n",
       "    const xhr = new XMLHttpRequest()\n",
       "    xhr.responseType = 'blob';\n",
       "    xhr.open('GET', \"http://localhost:51872/autoload.js?bokeh-autoload-element=ffe6eff9-c1a9-47ca-970b-9930416b4a2f&bokeh-absolute-url=http://localhost:51872&resources=none\", true);\n",
       "    xhr.withCredentials = false;\n",
       "    xhr.onload = function (event) {\n",
       "      const script = document.createElement('script');\n",
       "      const src = URL.createObjectURL(event.target.response);\n",
       "      script.src = src;\n",
       "      document.body.appendChild(script);\n",
       "    };\n",
       "    xhr.send();\n",
       "  })();\n",
       "</script>"
      ]
     },
     "metadata": {
      "application/vnd.bokehjs_exec.v0+json": {
       "server_id": "7693da1f68e44aa0beb2322520eb767f"
      }
     },
     "output_type": "display_data"
    }
   ],
   "source": [
    "# Compare inverse quadratic\n",
    "show(inverse_quad_app, **show_kws)"
   ]
  },
  {
   "cell_type": "code",
   "execution_count": 85,
   "id": "8b1a21e9-bd20-4fd3-be09-e43a40227635",
   "metadata": {
    "editable": true,
    "slideshow": {
     "slide_type": "skip"
    },
    "tags": []
   },
   "outputs": [
    {
     "name": "stdout",
     "output_type": "stream",
     "text": [
      "  i    bisect   invquad     brent   newton\n",
      "--------------------------------------------------\n",
      "  1   1.78750   3.22719   0.93379   -1.85000\n",
      "  2   2.39375   3.49725   1.87954    0.01332\n",
      "  3   2.09062   1.88313   2.57703   24052.68858\n",
      "  4   2.24219   2.26077   2.28974   16035.12572\n",
      "  5   2.31797   2.34919   2.33445   10690.08381\n",
      "  6   2.35586   2.33935   2.33923   7126.72254\n",
      "  7   2.33691   2.33921   2.33921   4751.14836\n",
      "  8   2.34639   2.33921   2.33921   3167.43224\n",
      "  9   2.34165   2.33921   2.33921   2111.62149\n",
      " 10   2.33928   2.33921   2.33921   1407.74766\n",
      " 11   2.33810   2.33921   2.33921   938.49844\n",
      " 12   2.33869   2.33921   2.33921   625.66563\n",
      " 13   2.33899   2.33921   2.33921   417.11043\n",
      " 14   2.33913   2.33921   2.33921   278.07365\n",
      " 15   2.33921   2.33921   2.33921   185.38249\n",
      " 16   2.33925   2.33921   2.33921   123.58845\n",
      " 17   2.33923   2.33921   2.33921   82.39258\n",
      " 18   2.33922   2.33921   2.33921   54.92901\n",
      " 19   2.33921   2.33921   2.33921   36.62076\n"
     ]
    }
   ],
   "source": [
    "# Print and compare iterations\n",
    "from scipy.optimize import brentq\n",
    "\n",
    "mult_power = 3; myfunc = mult_func; myfunc_deriv = mult_deriv\n",
    "\n",
    "a0, b0 = -1.1, 0.8; myfunc = orig_func; myfunc_deriv = orig_deriv\n",
    "\n",
    "a0, b0 = -1.85, 3.0; myfunc = saddle_func; myfunc_deriv = saddle_deriv\n",
    "# a0, b0 = -1.0, 3.0; myfunc = saddle_func; myfunc_deriv = saddle_deriv\n",
    "\n",
    "print(f'{\"i\":>3}    bisect   invquad     brent   newton')\n",
    "print('-'*50)\n",
    "\n",
    "for i in range(1, 20):\n",
    "    br = brentq(myfunc, a0, b0, maxiter=i, disp=False)\n",
    "    ai, bi, _ = bisection_root(myfunc, a0, b0, n_steps=i)\n",
    "    am = (ai + (bi-ai)/2.)\n",
    "\n",
    "    bq, _, _ = inverse_quad_root(myfunc, a0, b0, n_steps=i)\n",
    "    \n",
    "    if i < 2000:\n",
    "        _ = newton_root(myfunc, myfunc_deriv, a0, n_steps=i)\n",
    "    else:\n",
    "        _ = newton_root(myfunc, myfunc_deriv, am, n_steps=i)\n",
    "        \n",
    "    print(f'{i:>3}  {am:8.5f}  {bq:8.5f}  {br:8.5f}   {_[0]:8.5f}')"
   ]
  },
  {
   "cell_type": "code",
   "execution_count": 86,
   "id": "c77a977d-5695-4f02-a368-32d391a77375",
   "metadata": {
    "editable": true,
    "slideshow": {
     "slide_type": "skip"
    },
    "tags": []
   },
   "outputs": [
    {
     "data": {
      "application/vnd.bokehjs_exec.v0+json": "",
      "text/html": [
       "<script id=\"ac112475-8072-49e2-aea7-b6c7b71828cc\">\n",
       "  (function() {\n",
       "    const xhr = new XMLHttpRequest()\n",
       "    xhr.responseType = 'blob';\n",
       "    xhr.open('GET', \"http://localhost:51886/autoload.js?bokeh-autoload-element=ac112475-8072-49e2-aea7-b6c7b71828cc&bokeh-absolute-url=http://localhost:51886&resources=none\", true);\n",
       "    xhr.withCredentials = false;\n",
       "    xhr.onload = function (event) {\n",
       "      const script = document.createElement('script');\n",
       "      const src = URL.createObjectURL(event.target.response);\n",
       "      script.src = src;\n",
       "      document.body.appendChild(script);\n",
       "    };\n",
       "    xhr.send();\n",
       "  })();\n",
       "</script>"
      ]
     },
     "metadata": {
      "application/vnd.bokehjs_exec.v0+json": {
       "server_id": "6b9c8964b30f49ff90ba423a7919200d"
      }
     },
     "output_type": "display_data"
    }
   ],
   "source": [
    "# multiplicity = 4\n",
    "mult_power = 4; myfunc = mult_func; myfunc_deriv = mult_deriv\n",
    "show(newton_app, **show_kws)"
   ]
  },
  {
   "cell_type": "code",
   "execution_count": 87,
   "id": "fb00670d-535b-4867-aca2-08470aabd6d6",
   "metadata": {
    "editable": true,
    "slideshow": {
     "slide_type": "skip"
    },
    "tags": []
   },
   "outputs": [
    {
     "data": {
      "image/png": "[encoded data removed]",
      "text/plain": [
       "<Figure size 900x500 with 1 Axes>"
      ]
     },
     "metadata": {},
     "output_type": "display_data"
    }
   ],
   "source": [
    "plot_func(saddle_func, saddle_deriv, title=r'\"hidden\" $f^\\prime(x) = 0, f(x) \\neq 0$')"
   ]
  },
  {
   "cell_type": "code",
   "execution_count": 88,
   "id": "7ceea6c1-7adc-449a-bf57-083f4744ca17",
   "metadata": {
    "editable": true,
    "slideshow": {
     "slide_type": "skip"
    },
    "tags": []
   },
   "outputs": [
    {
     "data": {
      "application/vnd.bokehjs_exec.v0+json": "",
      "text/html": [
       "<script id=\"a45d9fc9-a942-4e91-930f-63a00fda63f5\">\n",
       "  (function() {\n",
       "    const xhr = new XMLHttpRequest()\n",
       "    xhr.responseType = 'blob';\n",
       "    xhr.open('GET', \"http://localhost:51894/autoload.js?bokeh-autoload-element=a45d9fc9-a942-4e91-930f-63a00fda63f5&bokeh-absolute-url=http://localhost:51894&resources=none\", true);\n",
       "    xhr.withCredentials = false;\n",
       "    xhr.onload = function (event) {\n",
       "      const script = document.createElement('script');\n",
       "      const src = URL.createObjectURL(event.target.response);\n",
       "      script.src = src;\n",
       "      document.body.appendChild(script);\n",
       "    };\n",
       "    xhr.send();\n",
       "  })();\n",
       "</script>"
      ]
     },
     "metadata": {
      "application/vnd.bokehjs_exec.v0+json": {
       "server_id": "d85e5bd909f142dfb040f8d2a9a9b620"
      }
     },
     "output_type": "display_data"
    }
   ],
   "source": [
    "a0 = -1.85\n",
    "myfunc = saddle_func; myfunc_deriv = saddle_deriv\n",
    "show(newton_app, **show_kws)"
   ]
  },
  {
   "cell_type": "code",
   "execution_count": 89,
   "id": "23e77cc6-236b-4046-b6bb-bbca0b257f77",
   "metadata": {
    "editable": true,
    "slideshow": {
     "slide_type": "skip"
    },
    "tags": []
   },
   "outputs": [
    {
     "data": {
      "application/vnd.bokehjs_exec.v0+json": "",
      "text/html": [
       "<script id=\"b46b9f26-55e3-4131-8ffb-d160b082a24b\">\n",
       "  (function() {\n",
       "    const xhr = new XMLHttpRequest()\n",
       "    xhr.responseType = 'blob';\n",
       "    xhr.open('GET', \"http://localhost:51900/autoload.js?bokeh-autoload-element=b46b9f26-55e3-4131-8ffb-d160b082a24b&bokeh-absolute-url=http://localhost:51900&resources=none\", true);\n",
       "    xhr.withCredentials = false;\n",
       "    xhr.onload = function (event) {\n",
       "      const script = document.createElement('script');\n",
       "      const src = URL.createObjectURL(event.target.response);\n",
       "      script.src = src;\n",
       "      document.body.appendChild(script);\n",
       "    };\n",
       "    xhr.send();\n",
       "  })();\n",
       "</script>"
      ]
     },
     "metadata": {
      "application/vnd.bokehjs_exec.v0+json": {
       "server_id": "a41f0c3d95854785bbc17e6706a011a6"
      }
     },
     "output_type": "display_data"
    },
    {
     "name": "stderr",
     "output_type": "stream",
     "text": [
      "/var/folders/dw/fyp140x977s3y5d2mdxw6m0w0000gn/T/ipykernel_38603/1033520856.py:54: RuntimeWarning: invalid value encountered in scalar divide\n",
      "  xp1 = xk - fk*(xk-xkm)/(fk-fkm)\n",
      "/var/folders/dw/fyp140x977s3y5d2mdxw6m0w0000gn/T/ipykernel_38603/1033520856.py:5: RuntimeWarning: invalid value encountered in scalar divide\n",
      "  xp1 = xk - fk*(xk-xkm)/(fk-fkm)\n",
      "/var/folders/dw/fyp140x977s3y5d2mdxw6m0w0000gn/T/ipykernel_38603/3861454326.py:15: RuntimeWarning: invalid value encountered in scalar divide\n",
      "  dx = fk*(xk-xkm)/(fk-fkm)\n"
     ]
    }
   ],
   "source": [
    "# Compare secant\n",
    "show(secant_app, **show_kws)"
   ]
  },
  {
   "cell_type": "code",
   "execution_count": 90,
   "id": "0f61ba80-9c35-4dd7-825e-2e33fb7ce387",
   "metadata": {
    "editable": true,
    "slideshow": {
     "slide_type": "skip"
    },
    "tags": []
   },
   "outputs": [
    {
     "data": {
      "application/vnd.bokehjs_exec.v0+json": "",
      "text/html": [
       "<script id=\"b3809074-527e-4fad-9eae-c16c24ac831e\">\n",
       "  (function() {\n",
       "    const xhr = new XMLHttpRequest()\n",
       "    xhr.responseType = 'blob';\n",
       "    xhr.open('GET', \"http://localhost:51903/autoload.js?bokeh-autoload-element=b3809074-527e-4fad-9eae-c16c24ac831e&bokeh-absolute-url=http://localhost:51903&resources=none\", true);\n",
       "    xhr.withCredentials = false;\n",
       "    xhr.onload = function (event) {\n",
       "      const script = document.createElement('script');\n",
       "      const src = URL.createObjectURL(event.target.response);\n",
       "      script.src = src;\n",
       "      document.body.appendChild(script);\n",
       "    };\n",
       "    xhr.send();\n",
       "  })();\n",
       "</script>"
      ]
     },
     "metadata": {
      "application/vnd.bokehjs_exec.v0+json": {
       "server_id": "92813a11234048cf9b50b6fc030d1ab3"
      }
     },
     "output_type": "display_data"
    }
   ],
   "source": [
    "# Compare bisector\n",
    "a0, b0 = -1.85, 2.5\n",
    "show(bisect_app,  **show_kws)"
   ]
  },
  {
   "cell_type": "code",
   "execution_count": 91,
   "id": "6e34fea3-7d92-46ee-9602-20670ad7676d",
   "metadata": {
    "editable": true,
    "slideshow": {
     "slide_type": "skip"
    },
    "tags": []
   },
   "outputs": [
    {
     "data": {
      "application/vnd.bokehjs_exec.v0+json": "",
      "text/html": [
       "<script id=\"e02adf07-4204-4028-a644-3e03071422db\">\n",
       "  (function() {\n",
       "    const xhr = new XMLHttpRequest()\n",
       "    xhr.responseType = 'blob';\n",
       "    xhr.open('GET', \"http://localhost:51910/autoload.js?bokeh-autoload-element=e02adf07-4204-4028-a644-3e03071422db&bokeh-absolute-url=http://localhost:51910&resources=none\", true);\n",
       "    xhr.withCredentials = false;\n",
       "    xhr.onload = function (event) {\n",
       "      const script = document.createElement('script');\n",
       "      const src = URL.createObjectURL(event.target.response);\n",
       "      script.src = src;\n",
       "      document.body.appendChild(script);\n",
       "    };\n",
       "    xhr.send();\n",
       "  })();\n",
       "</script>"
      ]
     },
     "metadata": {
      "application/vnd.bokehjs_exec.v0+json": {
       "server_id": "298e00fa36f64d788eed2222a41d1299"
      }
     },
     "output_type": "display_data"
    }
   ],
   "source": [
    "show(inverse_quad_app, **show_kws)"
   ]
  },
  {
   "cell_type": "markdown",
   "id": "a99a03ac-44d9-4517-aa11-8f5f1b135dff",
   "metadata": {
    "editable": true,
    "slideshow": {
     "slide_type": ""
    },
    "tags": []
   },
   "source": [
    "# Conclusions\n",
    "\n",
    "- For something as simple as solvers in 1D there are many approaches\n",
    "- Convergence rate is important for performance\n",
    "   - But the number of function evaluations is also a factor\n",
    "- If you know a narrow bracket the simple methods are quite efficient\n",
    "  - (If your function is well behaved)\n",
    "- Use more advanced methods if you don’t know where to look • or if your function is ill behaved"
   ]
  },
  {
   "cell_type": "markdown",
   "id": "624e9317-786f-49ad-976f-35d661fd1fc7",
   "metadata": {
    "editable": true,
    "slideshow": {
     "slide_type": "subslide"
    },
    "tags": []
   },
   "source": [
    "**From \"Numerical Recipes in C\" (William H Press et al., 1992):**\n",
    "\n",
    "> It cannot be overemphasized, however, how crucially success depends on having a good first guess for the solution, especially for multidimensional problems. This crucial beginning usually depends on analysis rather than numerics. Carefully crafted initial estimates reward you not only with reduced computational effort, but also with understanding and increased self-esteem.\n",
    "\n",
    "*“This talk of insight is all very well, but what do I actually do?”*"
   ]
  },
  {
   "cell_type": "markdown",
   "id": "8a1f3946-8ab9-48b1-8a8f-49875f3b1ba7",
   "metadata": {
    "editable": true,
    "slideshow": {
     "slide_type": "subslide"
    },
    "tags": []
   },
   "source": [
    "(Press, 1992, continued)\n",
    "\n",
    "For one-dimensional root finding, it is possible to give some straightforward answers: You should try to **get some idea of what your function looks like before trying to find its roots**.\n",
    "\n",
    "If you need to mass-produce roots for many different functions, then you should at least **know what some typical members of the ensemble look like**. \n",
    "\n",
    "Next, **you should always bracket a root**, that is, know that the function changes sign in an identified interval, before trying to converge to the root’s value.\n",
    "\n",
    "> Brent’s algorithm is the method of choice to find a bracketed root of a general one-dimensional function, when you cannot easily compute the function’s derivative"
   ]
  },
  {
   "cell_type": "markdown",
   "id": "465753cf-5396-484e-8043-5a15d30d6473",
   "metadata": {
    "editable": true,
    "slideshow": {
     "slide_type": "skip"
    },
    "tags": []
   },
   "source": [
    "# (testing) Javascript functions for standalone bokeh"
   ]
  },
  {
   "cell_type": "code",
   "execution_count": 19,
   "id": "b224e5b3-533f-4d98-844d-53b1a8ecef4b",
   "metadata": {
    "editable": true,
    "slideshow": {
     "slide_type": "skip"
    },
    "tags": []
   },
   "outputs": [],
   "source": [
    "\n",
    "# Javascript versions of the function definition and bisect algorithm\n",
    "\n",
    "func_js = \"\"\"\n",
    "function myfunc(x) {\n",
    "  return Math.pow(x, 2) - 4 * Math.sin(x);\n",
    "}\n",
    "\n",
    "function myfunc_deriv(x) {\n",
    "  return 2 * x - 4 * Math.cos(x);\n",
    "}\n",
    "\"\"\"\n",
    "\n",
    "bisect_js = \"\"\"\n",
    "\n",
    "function bisection_root(a, b, n_steps) {\n",
    "  /*\n",
    "  Do iterations of the bisection method to find roots\n",
    "  */\n",
    "  var fa, fb, fm, i, m;\n",
    "  \n",
    "  fa = myfunc(a);\n",
    "  fb = myfunc(b);\n",
    "\n",
    "  i = 0;\n",
    "\n",
    "  for (var i = 0, _pj_a = n_steps; i < _pj_a; i += 1) {\n",
    "    m = a + (b - a) / 2.0;\n",
    "    fm = myfunc(m);\n",
    "\n",
    "    if (Math.sign(fm) === Math.sign(fa)) {\n",
    "      [a, fa] = [m, fm];\n",
    "    } else {\n",
    "      [b, fb] = [m, fm];\n",
    "    }\n",
    "  }\n",
    "\n",
    "  return [a, b, i];\n",
    "}\n",
    "\"\"\"\n",
    "\n",
    "\n",
    "if False:\n",
    "    \n",
    "    # Make a bokeh \"app\" for interactive plotting    \n",
    "    from bokeh.models.callbacks import CustomJS\n",
    "    from bokeh.events import DocumentReady\n",
    "    \n",
    "    def text_label(a, b):\n",
    "        return f'a={a:7.4f} b={b:7.4f}  m={a + (b-a)/2.:11.8f}'\n",
    "    \n",
    "    fig = figure(title=\"bisection\", width=800, height=600,\n",
    "                 background_fill_color='white',\n",
    "                 active_drag='box_zoom')\n",
    "    \n",
    "    fig.xaxis.axis_label = 'x'\n",
    "    fig.yaxis.axis_label = 'y'\n",
    "    fig.xaxis.axis_label_text_font_style = \"normal\"\n",
    "    fig.yaxis.axis_label_text_font_style = \"normal\"\n",
    "    \n",
    "    data_line = fig.line(x=x, y=myfunc(x), color='black', alpha=0.5, line_width=2)\n",
    "    \n",
    "    init_source = {'x':[0,0], 'y': [0,0]}\n",
    "    init_scatter = fig.scatter(source=init_source, size=10, color='black')\n",
    "    # step_scatter = fig.scatter([0,0], [0,0], size=10, color='red', alpha=0.8)\n",
    "    \n",
    "    spans_source = {'x': [0,0]}\n",
    "    \n",
    "    spans = fig.vspan(source=spans_source, line_color='red', line_alpha=0.5)\n",
    "    yroot = fig.hspan(y=[0], line_color='green', line_alpha=0.3)\n",
    "    \n",
    "    midp_source = {'x': [0]}\n",
    "    midp_vline = fig.vspan(source=midp_source, line_color='magenta', line_alpha=0.5)\n",
    "    \n",
    "    ITEM_HEIGHT = 64\n",
    "    text_a = TextInput(title='a', value=f'{a0:.2f}', width=70, height=ITEM_HEIGHT)\n",
    "    text_b = TextInput(title='b', value=f'{b0:.2f}', width=70, height=ITEM_HEIGHT)\n",
    "    \n",
    "    txt = Div(text=text_label(a0, b0), sizing_mode=\"fixed\", width=500, height=ITEM_HEIGHT,\n",
    "              styles={'font-size': '150%', 'font-family': 'monospace'})\n",
    "    \n",
    "    nsteps = Slider(start=0, end=20, value=0, step=1, \n",
    "                    title='n_steps', sizing_mode=\"fixed\", width=300, height=ITEM_HEIGHT)\n",
    "    \n",
    "    active_objects = dict(nsteps=nsteps,\n",
    "                          init_scatter=init_scatter,\n",
    "                          spans=spans,\n",
    "                          midp_vline=midp_vline,\n",
    "                          text_a=text_a, text_b=text_b,\n",
    "                          txt=txt,\n",
    "                         )\n",
    "    \n",
    "    callback = CustomJS(args=active_objects, code=f\"\"\"\n",
    "    \n",
    "    {func_js}\n",
    "    \n",
    "    {bisect_js}\n",
    "    \n",
    "    // JavaScript code goes here\n",
    "    \n",
    "    // the model that triggered the callback is cb_obj:\n",
    "    var n_step = parseInt(nsteps.value);\n",
    "    \n",
    "    var res = bisection_root(parseFloat(text_a.value), parseFloat(text_b.value), n_step);\n",
    "    var ai = res[0];\n",
    "    var bi = res[1]\n",
    "    \n",
    "    spans.data_source.data['x'] = [ai, bi];\n",
    "    var m = ai + (bi-ai)/2;\n",
    "    midp_vline.data_source.data['x'] = [m];\n",
    "    \n",
    "    spans.data_source.change.emit();\n",
    "    midp_vline.data_source.change.emit();\n",
    "    \n",
    "    txt.text = 'a=' + ai.toFixed(4) + ', b=' + bi.toFixed(4) + ', m=' + m.toFixed(8); \n",
    "    txt.text.change.emit();\n",
    "    \n",
    "    \"\"\")\n",
    "    \n",
    "    if 0:\n",
    "        def update_steps():\n",
    "            \"\"\"\n",
    "            Perform n steps of the bisection algorithm and then plot the results\n",
    "            \"\"\"\n",
    "            n_step = nsteps.value\n",
    "            a0i = float(text_a.value)\n",
    "            b0i = float(text_b.value)\n",
    "        \n",
    "            init_scatter.data_source.data = {'x': [a0i, b0i], 'y': myfunc([a0i, b0i])}\n",
    "        \n",
    "            ai, bi, i = bisection_root(myfunc, a0i, b0i, n_steps=n_step, tol=None)\n",
    "            # step_scatter.data_source.data = {'x': [ai, bi], 'y': myfunc([ai, bi])}\n",
    "            spans.data_source.data = {'x': [ai, bi]}\n",
    "            \n",
    "            m = ai + (bi-ai)/2        \n",
    "            midp_vline.data_source.data = {'x': [m]}\n",
    "        \n",
    "            txt.text = text_label(ai, bi)\n",
    "    \n",
    "    # update_steps()\n",
    "    \n",
    "    nsteps.js_on_change('value', callback)\n",
    "    text_a.js_on_change('value', callback)\n",
    "    text_b.js_on_change('value', callback)\n",
    "    \n",
    "    sliders = row(nsteps)\n",
    "    p = layout([[text_a, text_b, sliders, txt],\n",
    "                [fig]])\n",
    "    \n",
    "    curdoc().js_on_event(DocumentReady, callback)\n",
    "\n",
    "    # Show bisector widget\n",
    "    show(p, notebook_handle=True)"
   ]
  }
 ],
 "metadata": {
  "kernelspec": {
   "display_name": "Python 3 (ipykernel)",
   "language": "python",
   "name": "python3"
  },
  "language_info": {
   "codemirror_mode": {
    "name": "ipython",
    "version": 3
   },
   "file_extension": ".py",
   "mimetype": "text/x-python",
   "name": "python",
   "nbconvert_exporter": "python",
   "pygments_lexer": "ipython3",
   "version": "3.12.9"
  }
 },
 "nbformat": 4,
 "nbformat_minor": 5
}
